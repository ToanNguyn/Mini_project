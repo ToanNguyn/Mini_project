{
 "cells": [
  {
   "cell_type": "markdown",
   "metadata": {},
   "source": [
    "<h1>I. Import library and dataset "
   ]
  },
  {
   "cell_type": "code",
   "execution_count": 236,
   "metadata": {},
   "outputs": [],
   "source": [
    "import os\n",
    "import warnings\n",
    "\n",
    "import numpy as np\n",
    "import pandas as pd\n",
    "import matplotlib.pyplot as plt\n",
    "\n",
    "from sklearn.model_selection import train_test_split, StratifiedKFold, GridSearchCV, RandomizedSearchCV, cross_val_score, cross_validate\n",
    "from sklearn.metrics import accuracy_score, f1_score, recall_score, precision_score, roc_auc_score, make_scorer\n",
    "from sklearn.preprocessing import StandardScaler\n",
    "from sklearn.feature_selection import RFE, SelectKBest, f_classif\n",
    "from sklearn.linear_model import LogisticRegression\n",
    "from sklearn.tree import DecisionTreeClassifier\n",
    "from sklearn.ensemble import RandomForestClassifier\n",
    "from sklearn.svm import SVC\n",
    "\n",
    "from imblearn.over_sampling import SMOTE\n",
    "from imblearn.under_sampling import TomekLinks\n",
    "from imblearn.combine import SMOTETomek\n",
    "from imblearn.pipeline import Pipeline\n",
    "\n",
    "from lightgbm import LGBMClassifier\n",
    "from scipy.stats import uniform\n",
    "\n",
    "warnings.filterwarnings('ignore')\n",
    "\n",
    "os.environ['LIGHTGBM_VERBOSITY'] = '1'\n",
    "\n",
    "pd.set_option('display.max_columns', None)"
   ]
  },
  {
   "cell_type": "code",
   "execution_count": 237,
   "metadata": {},
   "outputs": [],
   "source": [
    "data_numeric = pd.read_csv(r\"C:\\Users\\PC\\Downloads\\statlog+german+credit+data\\german.data-numeric\", delim_whitespace=True, header=None)"
   ]
  },
  {
   "cell_type": "code",
   "execution_count": 238,
   "metadata": {},
   "outputs": [
    {
     "data": {
      "text/html": [
       "<div>\n",
       "<style scoped>\n",
       "    .dataframe tbody tr th:only-of-type {\n",
       "        vertical-align: middle;\n",
       "    }\n",
       "\n",
       "    .dataframe tbody tr th {\n",
       "        vertical-align: top;\n",
       "    }\n",
       "\n",
       "    .dataframe thead th {\n",
       "        text-align: right;\n",
       "    }\n",
       "</style>\n",
       "<table border=\"1\" class=\"dataframe\">\n",
       "  <thead>\n",
       "    <tr style=\"text-align: right;\">\n",
       "      <th></th>\n",
       "      <th>0</th>\n",
       "      <th>1</th>\n",
       "      <th>2</th>\n",
       "      <th>3</th>\n",
       "      <th>4</th>\n",
       "      <th>5</th>\n",
       "      <th>6</th>\n",
       "      <th>7</th>\n",
       "      <th>8</th>\n",
       "      <th>9</th>\n",
       "      <th>10</th>\n",
       "      <th>11</th>\n",
       "      <th>12</th>\n",
       "      <th>13</th>\n",
       "      <th>14</th>\n",
       "      <th>15</th>\n",
       "      <th>16</th>\n",
       "      <th>17</th>\n",
       "      <th>18</th>\n",
       "      <th>19</th>\n",
       "      <th>20</th>\n",
       "      <th>21</th>\n",
       "      <th>22</th>\n",
       "      <th>23</th>\n",
       "      <th>24</th>\n",
       "    </tr>\n",
       "  </thead>\n",
       "  <tbody>\n",
       "    <tr>\n",
       "      <th>0</th>\n",
       "      <td>1</td>\n",
       "      <td>6</td>\n",
       "      <td>4</td>\n",
       "      <td>12</td>\n",
       "      <td>5</td>\n",
       "      <td>5</td>\n",
       "      <td>3</td>\n",
       "      <td>4</td>\n",
       "      <td>1</td>\n",
       "      <td>67</td>\n",
       "      <td>3</td>\n",
       "      <td>2</td>\n",
       "      <td>1</td>\n",
       "      <td>2</td>\n",
       "      <td>1</td>\n",
       "      <td>0</td>\n",
       "      <td>0</td>\n",
       "      <td>1</td>\n",
       "      <td>0</td>\n",
       "      <td>0</td>\n",
       "      <td>1</td>\n",
       "      <td>0</td>\n",
       "      <td>0</td>\n",
       "      <td>1</td>\n",
       "      <td>1</td>\n",
       "    </tr>\n",
       "    <tr>\n",
       "      <th>1</th>\n",
       "      <td>2</td>\n",
       "      <td>48</td>\n",
       "      <td>2</td>\n",
       "      <td>60</td>\n",
       "      <td>1</td>\n",
       "      <td>3</td>\n",
       "      <td>2</td>\n",
       "      <td>2</td>\n",
       "      <td>1</td>\n",
       "      <td>22</td>\n",
       "      <td>3</td>\n",
       "      <td>1</td>\n",
       "      <td>1</td>\n",
       "      <td>1</td>\n",
       "      <td>1</td>\n",
       "      <td>0</td>\n",
       "      <td>0</td>\n",
       "      <td>1</td>\n",
       "      <td>0</td>\n",
       "      <td>0</td>\n",
       "      <td>1</td>\n",
       "      <td>0</td>\n",
       "      <td>0</td>\n",
       "      <td>1</td>\n",
       "      <td>2</td>\n",
       "    </tr>\n",
       "    <tr>\n",
       "      <th>2</th>\n",
       "      <td>4</td>\n",
       "      <td>12</td>\n",
       "      <td>4</td>\n",
       "      <td>21</td>\n",
       "      <td>1</td>\n",
       "      <td>4</td>\n",
       "      <td>3</td>\n",
       "      <td>3</td>\n",
       "      <td>1</td>\n",
       "      <td>49</td>\n",
       "      <td>3</td>\n",
       "      <td>1</td>\n",
       "      <td>2</td>\n",
       "      <td>1</td>\n",
       "      <td>1</td>\n",
       "      <td>0</td>\n",
       "      <td>0</td>\n",
       "      <td>1</td>\n",
       "      <td>0</td>\n",
       "      <td>0</td>\n",
       "      <td>1</td>\n",
       "      <td>0</td>\n",
       "      <td>1</td>\n",
       "      <td>0</td>\n",
       "      <td>1</td>\n",
       "    </tr>\n",
       "    <tr>\n",
       "      <th>3</th>\n",
       "      <td>1</td>\n",
       "      <td>42</td>\n",
       "      <td>2</td>\n",
       "      <td>79</td>\n",
       "      <td>1</td>\n",
       "      <td>4</td>\n",
       "      <td>3</td>\n",
       "      <td>4</td>\n",
       "      <td>2</td>\n",
       "      <td>45</td>\n",
       "      <td>3</td>\n",
       "      <td>1</td>\n",
       "      <td>2</td>\n",
       "      <td>1</td>\n",
       "      <td>1</td>\n",
       "      <td>0</td>\n",
       "      <td>0</td>\n",
       "      <td>0</td>\n",
       "      <td>0</td>\n",
       "      <td>0</td>\n",
       "      <td>0</td>\n",
       "      <td>0</td>\n",
       "      <td>0</td>\n",
       "      <td>1</td>\n",
       "      <td>1</td>\n",
       "    </tr>\n",
       "    <tr>\n",
       "      <th>4</th>\n",
       "      <td>1</td>\n",
       "      <td>24</td>\n",
       "      <td>3</td>\n",
       "      <td>49</td>\n",
       "      <td>1</td>\n",
       "      <td>3</td>\n",
       "      <td>3</td>\n",
       "      <td>4</td>\n",
       "      <td>4</td>\n",
       "      <td>53</td>\n",
       "      <td>3</td>\n",
       "      <td>2</td>\n",
       "      <td>2</td>\n",
       "      <td>1</td>\n",
       "      <td>1</td>\n",
       "      <td>1</td>\n",
       "      <td>0</td>\n",
       "      <td>1</td>\n",
       "      <td>0</td>\n",
       "      <td>0</td>\n",
       "      <td>0</td>\n",
       "      <td>0</td>\n",
       "      <td>0</td>\n",
       "      <td>1</td>\n",
       "      <td>2</td>\n",
       "    </tr>\n",
       "    <tr>\n",
       "      <th>...</th>\n",
       "      <td>...</td>\n",
       "      <td>...</td>\n",
       "      <td>...</td>\n",
       "      <td>...</td>\n",
       "      <td>...</td>\n",
       "      <td>...</td>\n",
       "      <td>...</td>\n",
       "      <td>...</td>\n",
       "      <td>...</td>\n",
       "      <td>...</td>\n",
       "      <td>...</td>\n",
       "      <td>...</td>\n",
       "      <td>...</td>\n",
       "      <td>...</td>\n",
       "      <td>...</td>\n",
       "      <td>...</td>\n",
       "      <td>...</td>\n",
       "      <td>...</td>\n",
       "      <td>...</td>\n",
       "      <td>...</td>\n",
       "      <td>...</td>\n",
       "      <td>...</td>\n",
       "      <td>...</td>\n",
       "      <td>...</td>\n",
       "      <td>...</td>\n",
       "    </tr>\n",
       "    <tr>\n",
       "      <th>995</th>\n",
       "      <td>4</td>\n",
       "      <td>12</td>\n",
       "      <td>2</td>\n",
       "      <td>17</td>\n",
       "      <td>1</td>\n",
       "      <td>4</td>\n",
       "      <td>2</td>\n",
       "      <td>4</td>\n",
       "      <td>1</td>\n",
       "      <td>31</td>\n",
       "      <td>3</td>\n",
       "      <td>1</td>\n",
       "      <td>1</td>\n",
       "      <td>1</td>\n",
       "      <td>1</td>\n",
       "      <td>0</td>\n",
       "      <td>0</td>\n",
       "      <td>1</td>\n",
       "      <td>0</td>\n",
       "      <td>0</td>\n",
       "      <td>1</td>\n",
       "      <td>0</td>\n",
       "      <td>1</td>\n",
       "      <td>0</td>\n",
       "      <td>1</td>\n",
       "    </tr>\n",
       "    <tr>\n",
       "      <th>996</th>\n",
       "      <td>1</td>\n",
       "      <td>30</td>\n",
       "      <td>2</td>\n",
       "      <td>39</td>\n",
       "      <td>1</td>\n",
       "      <td>3</td>\n",
       "      <td>1</td>\n",
       "      <td>4</td>\n",
       "      <td>2</td>\n",
       "      <td>40</td>\n",
       "      <td>3</td>\n",
       "      <td>1</td>\n",
       "      <td>1</td>\n",
       "      <td>2</td>\n",
       "      <td>1</td>\n",
       "      <td>0</td>\n",
       "      <td>1</td>\n",
       "      <td>1</td>\n",
       "      <td>0</td>\n",
       "      <td>0</td>\n",
       "      <td>1</td>\n",
       "      <td>0</td>\n",
       "      <td>0</td>\n",
       "      <td>0</td>\n",
       "      <td>1</td>\n",
       "    </tr>\n",
       "    <tr>\n",
       "      <th>997</th>\n",
       "      <td>4</td>\n",
       "      <td>12</td>\n",
       "      <td>2</td>\n",
       "      <td>8</td>\n",
       "      <td>1</td>\n",
       "      <td>5</td>\n",
       "      <td>3</td>\n",
       "      <td>4</td>\n",
       "      <td>3</td>\n",
       "      <td>38</td>\n",
       "      <td>3</td>\n",
       "      <td>1</td>\n",
       "      <td>1</td>\n",
       "      <td>1</td>\n",
       "      <td>1</td>\n",
       "      <td>0</td>\n",
       "      <td>0</td>\n",
       "      <td>1</td>\n",
       "      <td>0</td>\n",
       "      <td>0</td>\n",
       "      <td>1</td>\n",
       "      <td>0</td>\n",
       "      <td>0</td>\n",
       "      <td>1</td>\n",
       "      <td>1</td>\n",
       "    </tr>\n",
       "    <tr>\n",
       "      <th>998</th>\n",
       "      <td>1</td>\n",
       "      <td>45</td>\n",
       "      <td>2</td>\n",
       "      <td>18</td>\n",
       "      <td>1</td>\n",
       "      <td>3</td>\n",
       "      <td>3</td>\n",
       "      <td>4</td>\n",
       "      <td>4</td>\n",
       "      <td>23</td>\n",
       "      <td>3</td>\n",
       "      <td>1</td>\n",
       "      <td>1</td>\n",
       "      <td>2</td>\n",
       "      <td>1</td>\n",
       "      <td>0</td>\n",
       "      <td>0</td>\n",
       "      <td>1</td>\n",
       "      <td>0</td>\n",
       "      <td>0</td>\n",
       "      <td>0</td>\n",
       "      <td>0</td>\n",
       "      <td>0</td>\n",
       "      <td>1</td>\n",
       "      <td>2</td>\n",
       "    </tr>\n",
       "    <tr>\n",
       "      <th>999</th>\n",
       "      <td>2</td>\n",
       "      <td>45</td>\n",
       "      <td>4</td>\n",
       "      <td>46</td>\n",
       "      <td>2</td>\n",
       "      <td>1</td>\n",
       "      <td>3</td>\n",
       "      <td>4</td>\n",
       "      <td>3</td>\n",
       "      <td>27</td>\n",
       "      <td>3</td>\n",
       "      <td>1</td>\n",
       "      <td>1</td>\n",
       "      <td>1</td>\n",
       "      <td>1</td>\n",
       "      <td>0</td>\n",
       "      <td>1</td>\n",
       "      <td>1</td>\n",
       "      <td>0</td>\n",
       "      <td>0</td>\n",
       "      <td>1</td>\n",
       "      <td>0</td>\n",
       "      <td>0</td>\n",
       "      <td>1</td>\n",
       "      <td>1</td>\n",
       "    </tr>\n",
       "  </tbody>\n",
       "</table>\n",
       "<p>1000 rows × 25 columns</p>\n",
       "</div>"
      ],
      "text/plain": [
       "     0   1   2   3   4   5   6   7   8   9   10  11  12  13  14  15  16  17  \\\n",
       "0     1   6   4  12   5   5   3   4   1  67   3   2   1   2   1   0   0   1   \n",
       "1     2  48   2  60   1   3   2   2   1  22   3   1   1   1   1   0   0   1   \n",
       "2     4  12   4  21   1   4   3   3   1  49   3   1   2   1   1   0   0   1   \n",
       "3     1  42   2  79   1   4   3   4   2  45   3   1   2   1   1   0   0   0   \n",
       "4     1  24   3  49   1   3   3   4   4  53   3   2   2   1   1   1   0   1   \n",
       "..   ..  ..  ..  ..  ..  ..  ..  ..  ..  ..  ..  ..  ..  ..  ..  ..  ..  ..   \n",
       "995   4  12   2  17   1   4   2   4   1  31   3   1   1   1   1   0   0   1   \n",
       "996   1  30   2  39   1   3   1   4   2  40   3   1   1   2   1   0   1   1   \n",
       "997   4  12   2   8   1   5   3   4   3  38   3   1   1   1   1   0   0   1   \n",
       "998   1  45   2  18   1   3   3   4   4  23   3   1   1   2   1   0   0   1   \n",
       "999   2  45   4  46   2   1   3   4   3  27   3   1   1   1   1   0   1   1   \n",
       "\n",
       "     18  19  20  21  22  23  24  \n",
       "0     0   0   1   0   0   1   1  \n",
       "1     0   0   1   0   0   1   2  \n",
       "2     0   0   1   0   1   0   1  \n",
       "3     0   0   0   0   0   1   1  \n",
       "4     0   0   0   0   0   1   2  \n",
       "..   ..  ..  ..  ..  ..  ..  ..  \n",
       "995   0   0   1   0   1   0   1  \n",
       "996   0   0   1   0   0   0   1  \n",
       "997   0   0   1   0   0   1   1  \n",
       "998   0   0   0   0   0   1   2  \n",
       "999   0   0   1   0   0   1   1  \n",
       "\n",
       "[1000 rows x 25 columns]"
      ]
     },
     "execution_count": 238,
     "metadata": {},
     "output_type": "execute_result"
    }
   ],
   "source": [
    "data_numeric"
   ]
  },
  {
   "cell_type": "code",
   "execution_count": 239,
   "metadata": {},
   "outputs": [
    {
     "data": {
      "text/plain": [
       "0"
      ]
     },
     "execution_count": 239,
     "metadata": {},
     "output_type": "execute_result"
    }
   ],
   "source": [
    "data_numeric.duplicated().sum()"
   ]
  },
  {
   "cell_type": "code",
   "execution_count": 240,
   "metadata": {},
   "outputs": [
    {
     "data": {
      "text/html": [
       "<div>\n",
       "<style scoped>\n",
       "    .dataframe tbody tr th:only-of-type {\n",
       "        vertical-align: middle;\n",
       "    }\n",
       "\n",
       "    .dataframe tbody tr th {\n",
       "        vertical-align: top;\n",
       "    }\n",
       "\n",
       "    .dataframe thead th {\n",
       "        text-align: right;\n",
       "    }\n",
       "</style>\n",
       "<table border=\"1\" class=\"dataframe\">\n",
       "  <thead>\n",
       "    <tr style=\"text-align: right;\">\n",
       "      <th></th>\n",
       "      <th>0</th>\n",
       "      <th>1</th>\n",
       "      <th>2</th>\n",
       "      <th>3</th>\n",
       "      <th>4</th>\n",
       "      <th>5</th>\n",
       "      <th>6</th>\n",
       "      <th>7</th>\n",
       "      <th>8</th>\n",
       "      <th>9</th>\n",
       "      <th>10</th>\n",
       "      <th>11</th>\n",
       "      <th>12</th>\n",
       "      <th>13</th>\n",
       "      <th>14</th>\n",
       "      <th>15</th>\n",
       "      <th>16</th>\n",
       "      <th>17</th>\n",
       "      <th>18</th>\n",
       "      <th>19</th>\n",
       "      <th>20</th>\n",
       "      <th>21</th>\n",
       "      <th>22</th>\n",
       "      <th>23</th>\n",
       "      <th>24</th>\n",
       "    </tr>\n",
       "  </thead>\n",
       "  <tbody>\n",
       "    <tr>\n",
       "      <th>count</th>\n",
       "      <td>1000.000000</td>\n",
       "      <td>1000.000000</td>\n",
       "      <td>1000.00000</td>\n",
       "      <td>1000.000000</td>\n",
       "      <td>1000.000000</td>\n",
       "      <td>1000.000000</td>\n",
       "      <td>1000.00000</td>\n",
       "      <td>1000.000000</td>\n",
       "      <td>1000.000000</td>\n",
       "      <td>1000.000000</td>\n",
       "      <td>1000.000000</td>\n",
       "      <td>1000.000000</td>\n",
       "      <td>1000.000000</td>\n",
       "      <td>1000.000000</td>\n",
       "      <td>1000.000000</td>\n",
       "      <td>1000.000000</td>\n",
       "      <td>1000.000000</td>\n",
       "      <td>1000.000000</td>\n",
       "      <td>1000.000000</td>\n",
       "      <td>1000.000000</td>\n",
       "      <td>1000.000000</td>\n",
       "      <td>1000.000000</td>\n",
       "      <td>1000.0000</td>\n",
       "      <td>1000.000000</td>\n",
       "      <td>1000.000000</td>\n",
       "    </tr>\n",
       "    <tr>\n",
       "      <th>mean</th>\n",
       "      <td>2.577000</td>\n",
       "      <td>20.903000</td>\n",
       "      <td>2.54500</td>\n",
       "      <td>32.711000</td>\n",
       "      <td>2.105000</td>\n",
       "      <td>3.384000</td>\n",
       "      <td>2.68200</td>\n",
       "      <td>2.845000</td>\n",
       "      <td>2.358000</td>\n",
       "      <td>35.546000</td>\n",
       "      <td>2.675000</td>\n",
       "      <td>1.407000</td>\n",
       "      <td>1.155000</td>\n",
       "      <td>1.404000</td>\n",
       "      <td>1.037000</td>\n",
       "      <td>0.234000</td>\n",
       "      <td>0.103000</td>\n",
       "      <td>0.907000</td>\n",
       "      <td>0.041000</td>\n",
       "      <td>0.179000</td>\n",
       "      <td>0.713000</td>\n",
       "      <td>0.022000</td>\n",
       "      <td>0.2000</td>\n",
       "      <td>0.630000</td>\n",
       "      <td>1.300000</td>\n",
       "    </tr>\n",
       "    <tr>\n",
       "      <th>std</th>\n",
       "      <td>1.257638</td>\n",
       "      <td>12.058814</td>\n",
       "      <td>1.08312</td>\n",
       "      <td>28.252605</td>\n",
       "      <td>1.580023</td>\n",
       "      <td>1.208306</td>\n",
       "      <td>0.70808</td>\n",
       "      <td>1.103718</td>\n",
       "      <td>1.050209</td>\n",
       "      <td>11.375469</td>\n",
       "      <td>0.705601</td>\n",
       "      <td>0.577654</td>\n",
       "      <td>0.362086</td>\n",
       "      <td>0.490943</td>\n",
       "      <td>0.188856</td>\n",
       "      <td>0.423584</td>\n",
       "      <td>0.304111</td>\n",
       "      <td>0.290578</td>\n",
       "      <td>0.198389</td>\n",
       "      <td>0.383544</td>\n",
       "      <td>0.452588</td>\n",
       "      <td>0.146757</td>\n",
       "      <td>0.4002</td>\n",
       "      <td>0.483046</td>\n",
       "      <td>0.458487</td>\n",
       "    </tr>\n",
       "    <tr>\n",
       "      <th>min</th>\n",
       "      <td>1.000000</td>\n",
       "      <td>4.000000</td>\n",
       "      <td>0.00000</td>\n",
       "      <td>2.000000</td>\n",
       "      <td>1.000000</td>\n",
       "      <td>1.000000</td>\n",
       "      <td>1.00000</td>\n",
       "      <td>1.000000</td>\n",
       "      <td>1.000000</td>\n",
       "      <td>19.000000</td>\n",
       "      <td>1.000000</td>\n",
       "      <td>1.000000</td>\n",
       "      <td>1.000000</td>\n",
       "      <td>1.000000</td>\n",
       "      <td>1.000000</td>\n",
       "      <td>0.000000</td>\n",
       "      <td>0.000000</td>\n",
       "      <td>0.000000</td>\n",
       "      <td>0.000000</td>\n",
       "      <td>0.000000</td>\n",
       "      <td>0.000000</td>\n",
       "      <td>0.000000</td>\n",
       "      <td>0.0000</td>\n",
       "      <td>0.000000</td>\n",
       "      <td>1.000000</td>\n",
       "    </tr>\n",
       "    <tr>\n",
       "      <th>25%</th>\n",
       "      <td>1.000000</td>\n",
       "      <td>12.000000</td>\n",
       "      <td>2.00000</td>\n",
       "      <td>14.000000</td>\n",
       "      <td>1.000000</td>\n",
       "      <td>3.000000</td>\n",
       "      <td>2.00000</td>\n",
       "      <td>2.000000</td>\n",
       "      <td>1.000000</td>\n",
       "      <td>27.000000</td>\n",
       "      <td>3.000000</td>\n",
       "      <td>1.000000</td>\n",
       "      <td>1.000000</td>\n",
       "      <td>1.000000</td>\n",
       "      <td>1.000000</td>\n",
       "      <td>0.000000</td>\n",
       "      <td>0.000000</td>\n",
       "      <td>1.000000</td>\n",
       "      <td>0.000000</td>\n",
       "      <td>0.000000</td>\n",
       "      <td>0.000000</td>\n",
       "      <td>0.000000</td>\n",
       "      <td>0.0000</td>\n",
       "      <td>0.000000</td>\n",
       "      <td>1.000000</td>\n",
       "    </tr>\n",
       "    <tr>\n",
       "      <th>50%</th>\n",
       "      <td>2.000000</td>\n",
       "      <td>18.000000</td>\n",
       "      <td>2.00000</td>\n",
       "      <td>23.000000</td>\n",
       "      <td>1.000000</td>\n",
       "      <td>3.000000</td>\n",
       "      <td>3.00000</td>\n",
       "      <td>3.000000</td>\n",
       "      <td>2.000000</td>\n",
       "      <td>33.000000</td>\n",
       "      <td>3.000000</td>\n",
       "      <td>1.000000</td>\n",
       "      <td>1.000000</td>\n",
       "      <td>1.000000</td>\n",
       "      <td>1.000000</td>\n",
       "      <td>0.000000</td>\n",
       "      <td>0.000000</td>\n",
       "      <td>1.000000</td>\n",
       "      <td>0.000000</td>\n",
       "      <td>0.000000</td>\n",
       "      <td>1.000000</td>\n",
       "      <td>0.000000</td>\n",
       "      <td>0.0000</td>\n",
       "      <td>1.000000</td>\n",
       "      <td>1.000000</td>\n",
       "    </tr>\n",
       "    <tr>\n",
       "      <th>75%</th>\n",
       "      <td>4.000000</td>\n",
       "      <td>24.000000</td>\n",
       "      <td>4.00000</td>\n",
       "      <td>40.000000</td>\n",
       "      <td>3.000000</td>\n",
       "      <td>5.000000</td>\n",
       "      <td>3.00000</td>\n",
       "      <td>4.000000</td>\n",
       "      <td>3.000000</td>\n",
       "      <td>42.000000</td>\n",
       "      <td>3.000000</td>\n",
       "      <td>2.000000</td>\n",
       "      <td>1.000000</td>\n",
       "      <td>2.000000</td>\n",
       "      <td>1.000000</td>\n",
       "      <td>0.000000</td>\n",
       "      <td>0.000000</td>\n",
       "      <td>1.000000</td>\n",
       "      <td>0.000000</td>\n",
       "      <td>0.000000</td>\n",
       "      <td>1.000000</td>\n",
       "      <td>0.000000</td>\n",
       "      <td>0.0000</td>\n",
       "      <td>1.000000</td>\n",
       "      <td>2.000000</td>\n",
       "    </tr>\n",
       "    <tr>\n",
       "      <th>max</th>\n",
       "      <td>4.000000</td>\n",
       "      <td>72.000000</td>\n",
       "      <td>4.00000</td>\n",
       "      <td>184.000000</td>\n",
       "      <td>5.000000</td>\n",
       "      <td>5.000000</td>\n",
       "      <td>4.00000</td>\n",
       "      <td>4.000000</td>\n",
       "      <td>4.000000</td>\n",
       "      <td>75.000000</td>\n",
       "      <td>3.000000</td>\n",
       "      <td>4.000000</td>\n",
       "      <td>2.000000</td>\n",
       "      <td>2.000000</td>\n",
       "      <td>2.000000</td>\n",
       "      <td>1.000000</td>\n",
       "      <td>1.000000</td>\n",
       "      <td>1.000000</td>\n",
       "      <td>1.000000</td>\n",
       "      <td>1.000000</td>\n",
       "      <td>1.000000</td>\n",
       "      <td>1.000000</td>\n",
       "      <td>1.0000</td>\n",
       "      <td>1.000000</td>\n",
       "      <td>2.000000</td>\n",
       "    </tr>\n",
       "  </tbody>\n",
       "</table>\n",
       "</div>"
      ],
      "text/plain": [
       "                0            1           2            3            4   \\\n",
       "count  1000.000000  1000.000000  1000.00000  1000.000000  1000.000000   \n",
       "mean      2.577000    20.903000     2.54500    32.711000     2.105000   \n",
       "std       1.257638    12.058814     1.08312    28.252605     1.580023   \n",
       "min       1.000000     4.000000     0.00000     2.000000     1.000000   \n",
       "25%       1.000000    12.000000     2.00000    14.000000     1.000000   \n",
       "50%       2.000000    18.000000     2.00000    23.000000     1.000000   \n",
       "75%       4.000000    24.000000     4.00000    40.000000     3.000000   \n",
       "max       4.000000    72.000000     4.00000   184.000000     5.000000   \n",
       "\n",
       "                5           6            7            8            9   \\\n",
       "count  1000.000000  1000.00000  1000.000000  1000.000000  1000.000000   \n",
       "mean      3.384000     2.68200     2.845000     2.358000    35.546000   \n",
       "std       1.208306     0.70808     1.103718     1.050209    11.375469   \n",
       "min       1.000000     1.00000     1.000000     1.000000    19.000000   \n",
       "25%       3.000000     2.00000     2.000000     1.000000    27.000000   \n",
       "50%       3.000000     3.00000     3.000000     2.000000    33.000000   \n",
       "75%       5.000000     3.00000     4.000000     3.000000    42.000000   \n",
       "max       5.000000     4.00000     4.000000     4.000000    75.000000   \n",
       "\n",
       "                10           11           12           13           14  \\\n",
       "count  1000.000000  1000.000000  1000.000000  1000.000000  1000.000000   \n",
       "mean      2.675000     1.407000     1.155000     1.404000     1.037000   \n",
       "std       0.705601     0.577654     0.362086     0.490943     0.188856   \n",
       "min       1.000000     1.000000     1.000000     1.000000     1.000000   \n",
       "25%       3.000000     1.000000     1.000000     1.000000     1.000000   \n",
       "50%       3.000000     1.000000     1.000000     1.000000     1.000000   \n",
       "75%       3.000000     2.000000     1.000000     2.000000     1.000000   \n",
       "max       3.000000     4.000000     2.000000     2.000000     2.000000   \n",
       "\n",
       "                15           16           17           18           19  \\\n",
       "count  1000.000000  1000.000000  1000.000000  1000.000000  1000.000000   \n",
       "mean      0.234000     0.103000     0.907000     0.041000     0.179000   \n",
       "std       0.423584     0.304111     0.290578     0.198389     0.383544   \n",
       "min       0.000000     0.000000     0.000000     0.000000     0.000000   \n",
       "25%       0.000000     0.000000     1.000000     0.000000     0.000000   \n",
       "50%       0.000000     0.000000     1.000000     0.000000     0.000000   \n",
       "75%       0.000000     0.000000     1.000000     0.000000     0.000000   \n",
       "max       1.000000     1.000000     1.000000     1.000000     1.000000   \n",
       "\n",
       "                20           21         22           23           24  \n",
       "count  1000.000000  1000.000000  1000.0000  1000.000000  1000.000000  \n",
       "mean      0.713000     0.022000     0.2000     0.630000     1.300000  \n",
       "std       0.452588     0.146757     0.4002     0.483046     0.458487  \n",
       "min       0.000000     0.000000     0.0000     0.000000     1.000000  \n",
       "25%       0.000000     0.000000     0.0000     0.000000     1.000000  \n",
       "50%       1.000000     0.000000     0.0000     1.000000     1.000000  \n",
       "75%       1.000000     0.000000     0.0000     1.000000     2.000000  \n",
       "max       1.000000     1.000000     1.0000     1.000000     2.000000  "
      ]
     },
     "execution_count": 240,
     "metadata": {},
     "output_type": "execute_result"
    }
   ],
   "source": [
    "data_numeric.describe()"
   ]
  },
  {
   "cell_type": "code",
   "execution_count": 241,
   "metadata": {},
   "outputs": [
    {
     "data": {
      "text/plain": [
       "array([2, 1, 3, 4], dtype=int64)"
      ]
     },
     "execution_count": 241,
     "metadata": {},
     "output_type": "execute_result"
    }
   ],
   "source": [
    "data_numeric[11].unique()"
   ]
  },
  {
   "cell_type": "code",
   "execution_count": 242,
   "metadata": {},
   "outputs": [
    {
     "name": "stdout",
     "output_type": "stream",
     "text": [
      "<class 'pandas.core.frame.DataFrame'>\n",
      "RangeIndex: 1000 entries, 0 to 999\n",
      "Data columns (total 25 columns):\n",
      " #   Column  Non-Null Count  Dtype\n",
      "---  ------  --------------  -----\n",
      " 0   0       1000 non-null   int64\n",
      " 1   1       1000 non-null   int64\n",
      " 2   2       1000 non-null   int64\n",
      " 3   3       1000 non-null   int64\n",
      " 4   4       1000 non-null   int64\n",
      " 5   5       1000 non-null   int64\n",
      " 6   6       1000 non-null   int64\n",
      " 7   7       1000 non-null   int64\n",
      " 8   8       1000 non-null   int64\n",
      " 9   9       1000 non-null   int64\n",
      " 10  10      1000 non-null   int64\n",
      " 11  11      1000 non-null   int64\n",
      " 12  12      1000 non-null   int64\n",
      " 13  13      1000 non-null   int64\n",
      " 14  14      1000 non-null   int64\n",
      " 15  15      1000 non-null   int64\n",
      " 16  16      1000 non-null   int64\n",
      " 17  17      1000 non-null   int64\n",
      " 18  18      1000 non-null   int64\n",
      " 19  19      1000 non-null   int64\n",
      " 20  20      1000 non-null   int64\n",
      " 21  21      1000 non-null   int64\n",
      " 22  22      1000 non-null   int64\n",
      " 23  23      1000 non-null   int64\n",
      " 24  24      1000 non-null   int64\n",
      "dtypes: int64(25)\n",
      "memory usage: 195.4 KB\n"
     ]
    }
   ],
   "source": [
    "data_numeric.info()"
   ]
  },
  {
   "cell_type": "markdown",
   "metadata": {},
   "source": [
    "This dataset is clean, with all non-null values, no duplicated, correct data types, and no invalid data."
   ]
  },
  {
   "cell_type": "markdown",
   "metadata": {},
   "source": [
    "<h1>II. EDA"
   ]
  },
  {
   "cell_type": "markdown",
   "metadata": {},
   "source": [
    "<h1>1. Outlier"
   ]
  },
  {
   "cell_type": "code",
   "execution_count": 243,
   "metadata": {},
   "outputs": [
    {
     "data": {
      "image/png": "[encoded data removed]",
      "text/plain": [
       "<Figure size 2000x1500 with 25 Axes>"
      ]
     },
     "metadata": {},
     "output_type": "display_data"
    }
   ],
   "source": [
    "fig, axes = plt.subplots(5, 5, figsize=(20, 15)) \n",
    "fig.tight_layout(pad=5.0)\n",
    "\n",
    "for i, ax in enumerate(axes.flatten()):\n",
    "    feature_name = data_numeric.columns[i]\n",
    "    ax.boxplot(data_numeric[feature_name])\n",
    "    ax.set_title(feature_name)\n",
    "    ax.set_ylabel('Value')\n",
    "\n",
    "plt.show()"
   ]
  },
  {
   "cell_type": "markdown",
   "metadata": {},
   "source": [
    "Besides the features with outliers that are simply due to their categorical nature and not actual anomalies, the original numerical features with outliers (1, 3, 9, ...) will be retained and not dropped, as removing them might lead to missing potential fraud data."
   ]
  },
  {
   "cell_type": "markdown",
   "metadata": {},
   "source": [
    "<h2>2. Data imbalance check "
   ]
  },
  {
   "cell_type": "code",
   "execution_count": 244,
   "metadata": {},
   "outputs": [
    {
     "data": {
      "image/png": "[encoded data removed]",
      "text/plain": [
       "<Figure size 800x500 with 1 Axes>"
      ]
     },
     "metadata": {},
     "output_type": "display_data"
    }
   ],
   "source": [
    "percent_1 = len(data_numeric[data_numeric[24] == 1]) / len(data_numeric) * 100 \n",
    "percent_2 = len(data_numeric[data_numeric[24] == 2]) / len(data_numeric) * 100 \n",
    "\n",
    "precise_values = [percent_1, percent_2]\n",
    "\n",
    "plt.figure(figsize=(8, 5))\n",
    "bars = plt.bar(['Class 1', 'Class 2'], precise_values, color=['blue', 'orange'])\n",
    "\n",
    "for bar, value in zip(bars, precise_values):\n",
    "    plt.text(bar.get_x() + bar.get_width() / 2, bar.get_height() + 1, \n",
    "             f'{value:.2f}%', ha='center', va='bottom', fontsize=10)\n",
    "\n",
    "plt.title('Class Distribution with Precise Percentages')\n",
    "plt.ylabel('Percentage (%)')\n",
    "plt.xlabel('Class')\n",
    "plt.ylim(0, 100) \n",
    "plt.grid(axis='y', linestyle='--', alpha=0.7)\n",
    "plt.show()"
   ]
  },
  {
   "cell_type": "markdown",
   "metadata": {},
   "source": [
    "It is not extreme imbalance, but resampling could be apply to see wether the model predict properly."
   ]
  },
  {
   "cell_type": "markdown",
   "metadata": {},
   "source": [
    "<h1>III. Methodology"
   ]
  },
  {
   "cell_type": "markdown",
   "metadata": {},
   "source": [
    "<h2>1. Metrics"
   ]
  },
  {
   "cell_type": "markdown",
   "metadata": {},
   "source": [
    "In the case of credit card fraud detection, minimizing false negatives is crucial. Fraudulent transactions can result in significant financial losses, making it essential to implement measures to prevent them. A false negative occurs when a fraudulent transaction is mistakenly classified as genuine, which can have severe consequences ([credit: SMOTE and Tomek Links for imbalanced data Kaggle notebook](https://www.kaggle.com/code/marcinrutecki/smote-and-tomek-links-for-imbalanced-data#4.2-Optimising-for-Recall)).\n",
    "\n",
    "However, there are two primary challenges when optimizing for recall in this scenario. First, it can lead to increased costs by misclassifying legitimate transactions from potential customers as fraudulent. Second, in my experience, optimizing recall really high (eg. 1) often degrades other metrics, such as precision, resulting in an imbalanced and less effective model.\n",
    "\n",
    "To address these issues, the F1 score is selected as the primary metric. The F1 score, being the harmonic mean of recall and precision, balances the trade-off between the two. While recall remains an important secondary criterion, prioritizing the F1 score ensures the model achieves a better equilibrium. This approach helps to identify fraudulent transactions effectively while keeping the false positive rate manageable, maintaining both cost-effectiveness and robust fraud detection."
   ]
  },
  {
   "cell_type": "markdown",
   "metadata": {},
   "source": [
    "<h2>2. Resampling "
   ]
  },
  {
   "cell_type": "markdown",
   "metadata": {},
   "source": [
    "Four techniques are used to address class imbalance: using the class_weight='balanced' parameter and three resampling techniques, including SMOTE, Tomek Links, and a combination of both. However, the class imbalance ratio of 7:3 is not too extreme, and some models can handle imbalanced classes effectively without resampling (eg. Tree-based models). Therefore, these techniques will be tested, and only those that improve performance will be utilized."
   ]
  },
  {
   "cell_type": "markdown",
   "metadata": {},
   "source": [
    "<h2>3. Scaling "
   ]
  },
  {
   "cell_type": "markdown",
   "metadata": {},
   "source": [
    "Similar to resampling, scaling will be applied only when required by the model (e.g., SVM and Logistic Regression)."
   ]
  },
  {
   "cell_type": "markdown",
   "metadata": {},
   "source": [
    "<h2>4. Feature selection "
   ]
  },
  {
   "cell_type": "markdown",
   "metadata": {},
   "source": [
    "- Similar to resampling and scaling, feature selection will be applied only if it improves the model's performance.\n",
    "- RFE will be used as the primary feature selection technique."
   ]
  },
  {
   "cell_type": "markdown",
   "metadata": {},
   "source": [
    "<h1>III. Model "
   ]
  },
  {
   "cell_type": "markdown",
   "metadata": {},
   "source": [
    "Split train and test set "
   ]
  },
  {
   "cell_type": "code",
   "execution_count": 245,
   "metadata": {},
   "outputs": [],
   "source": [
    "data_numeric.rename(columns={24: \"target\"}, inplace=True)\n",
    "X = data_numeric.drop(columns=\"target\")\n",
    "y = data_numeric[\"target\"]\n",
    "\n",
    "X_train, X_test, y_train, y_test = train_test_split(X, y, test_size=0.2, random_state=42)"
   ]
  },
  {
   "cell_type": "markdown",
   "metadata": {},
   "source": [
    "Cross validation "
   ]
  },
  {
   "cell_type": "code",
   "execution_count": 246,
   "metadata": {},
   "outputs": [],
   "source": [
    "cv = StratifiedKFold(5, shuffle=True, random_state=42)"
   ]
  },
  {
   "cell_type": "markdown",
   "metadata": {},
   "source": [
    "<h2>1. Logistic regression "
   ]
  },
  {
   "cell_type": "markdown",
   "metadata": {},
   "source": [
    "In Logistic regression, The target must be mapped to 0 and 1 since the sigmoid function outputs probabilities that can be thresholded to decide between the two classes."
   ]
  },
  {
   "cell_type": "code",
   "execution_count": 247,
   "metadata": {},
   "outputs": [],
   "source": [
    "y_train_bi = y_train.map({1: 0, 2: 1})\n",
    "y_test_bi = y_test.map({1: 0, 2: 1})\n",
    "y_train_bi = np.array(y_train_bi)\n",
    "y_test_bi = np.array(y_test_bi)"
   ]
  },
  {
   "cell_type": "markdown",
   "metadata": {},
   "source": [
    "<h3>1.1 Baseline model"
   ]
  },
  {
   "cell_type": "code",
   "execution_count": 248,
   "metadata": {},
   "outputs": [
    {
     "name": "stdout",
     "output_type": "stream",
     "text": [
      "Cross-Validated Mean Scores:\n",
      "F1 Score (CV Mean): 0.5313\n",
      "Recall (CV Mean): 0.4525\n",
      "Precision (CV Mean): 0.6457\n",
      "Accuracy (CV Mean): 0.7613\n"
     ]
    }
   ],
   "source": [
    "model = LogisticRegression(random_state=42)\n",
    "\n",
    "scoring = ['f1', 'recall', 'precision', 'accuracy']\n",
    "\n",
    "cv_results = cross_validate(\n",
    "    estimator=model,\n",
    "    X=X_train,\n",
    "    y=y_train_bi,\n",
    "    scoring=scoring,\n",
    "    cv=cv,\n",
    "    return_train_score=False,\n",
    "    n_jobs=-1 \n",
    ")\n",
    "\n",
    "f1_mean = cv_results['test_f1'].mean()\n",
    "recall_mean = cv_results['test_recall'].mean()\n",
    "precision_mean = cv_results['test_precision'].mean()\n",
    "accuracy_mean = cv_results['test_accuracy'].mean()\n",
    "\n",
    "print(\"Cross-Validated Mean Scores:\")\n",
    "print(f\"F1 Score (CV Mean): {f1_mean:.4f}\")\n",
    "print(f\"Recall (CV Mean): {recall_mean:.4f}\")\n",
    "print(f\"Precision (CV Mean): {precision_mean:.4f}\")\n",
    "print(f\"Accuracy (CV Mean): {accuracy_mean:.4f}\")"
   ]
  },
  {
   "cell_type": "markdown",
   "metadata": {},
   "source": [
    "<h3> 1.2. Oversampling "
   ]
  },
  {
   "cell_type": "code",
   "execution_count": 249,
   "metadata": {},
   "outputs": [
    {
     "name": "stdout",
     "output_type": "stream",
     "text": [
      "Cross-Validated Mean Scores:\n",
      "F1 Score (CV Mean): 0.5748\n",
      "Recall (CV Mean): 0.5855\n",
      "Precision (CV Mean): 0.5661\n",
      "Accuracy (CV Mean): 0.7412\n"
     ]
    }
   ],
   "source": [
    "model = LogisticRegression(random_state=42)\n",
    "\n",
    "pipeline = Pipeline([\n",
    "    ('smote', SMOTE(random_state=42)),  \n",
    "    ('scaler', StandardScaler()), \n",
    "    ('model', LogisticRegression(random_state=42))  \n",
    "])\n",
    "\n",
    "cv_results = cross_validate(\n",
    "    estimator=pipeline,\n",
    "    X=X_train,\n",
    "    y=y_train_bi,\n",
    "    scoring=scoring,\n",
    "    cv=cv,\n",
    "    return_train_score=False,\n",
    "    n_jobs=-1  \n",
    ")\n",
    "\n",
    "f1_mean = cv_results['test_f1'].mean()\n",
    "recall_mean = cv_results['test_recall'].mean()\n",
    "precision_mean = cv_results['test_precision'].mean()\n",
    "accuracy_mean = cv_results['test_accuracy'].mean()\n",
    "\n",
    "print(\"Cross-Validated Mean Scores:\")\n",
    "print(f\"F1 Score (CV Mean): {f1_mean:.4f}\")\n",
    "print(f\"Recall (CV Mean): {recall_mean:.4f}\")\n",
    "print(f\"Precision (CV Mean): {precision_mean:.4f}\")\n",
    "print(f\"Accuracy (CV Mean): {accuracy_mean:.4f}\")"
   ]
  },
  {
   "cell_type": "markdown",
   "metadata": {},
   "source": [
    "<h3>1.3. Undersampling "
   ]
  },
  {
   "cell_type": "code",
   "execution_count": 250,
   "metadata": {},
   "outputs": [
    {
     "name": "stdout",
     "output_type": "stream",
     "text": [
      "Cross-Validated Mean Scores:\n",
      "F1 Score (CV Mean): 0.5743\n",
      "Recall (CV Mean): 0.5440\n",
      "Precision (CV Mean): 0.6129\n",
      "Accuracy (CV Mean): 0.7600\n"
     ]
    }
   ],
   "source": [
    "model = LogisticRegression(random_state=42)\n",
    "\n",
    "pipeline = Pipeline([\n",
    "    ('tomek', TomekLinks()),  \n",
    "    ('scaler', StandardScaler()),  \n",
    "    ('model', LogisticRegression(random_state=42))  \n",
    "])\n",
    "\n",
    "cv_results = cross_validate(\n",
    "    estimator=pipeline,\n",
    "    X=X_train,\n",
    "    y=y_train_bi,\n",
    "    scoring=scoring,\n",
    "    cv=cv,\n",
    "    return_train_score=False,\n",
    "    n_jobs=-1  \n",
    ")\n",
    "\n",
    "f1_mean = cv_results['test_f1'].mean()\n",
    "recall_mean = cv_results['test_recall'].mean()\n",
    "precision_mean = cv_results['test_precision'].mean()\n",
    "accuracy_mean = cv_results['test_accuracy'].mean()\n",
    "\n",
    "print(\"Cross-Validated Mean Scores:\")\n",
    "print(f\"F1 Score (CV Mean): {f1_mean:.4f}\")\n",
    "print(f\"Recall (CV Mean): {recall_mean:.4f}\")\n",
    "print(f\"Precision (CV Mean): {precision_mean:.4f}\")\n",
    "print(f\"Accuracy (CV Mean): {accuracy_mean:.4f}\")"
   ]
  },
  {
   "cell_type": "markdown",
   "metadata": {},
   "source": [
    "<h3> 1.4. Combining oversampling and undersampling"
   ]
  },
  {
   "cell_type": "code",
   "execution_count": 251,
   "metadata": {},
   "outputs": [
    {
     "name": "stdout",
     "output_type": "stream",
     "text": [
      "Cross-Validated Mean Scores:\n",
      "F1 Score (CV Mean): 0.5628\n",
      "Recall (CV Mean): 0.5646\n",
      "Precision (CV Mean): 0.5619\n",
      "Accuracy (CV Mean): 0.7375\n"
     ]
    }
   ],
   "source": [
    "model = LogisticRegression(random_state=42)\n",
    "\n",
    "pipeline = Pipeline([\n",
    "    ('smote_tomek', SMOTETomek(random_state=42)),\n",
    "    ('scaler', StandardScaler()), \n",
    "    ('model', LogisticRegression(random_state=42))\n",
    "])\n",
    "\n",
    "cv_results = cross_validate(\n",
    "    estimator=pipeline,\n",
    "    X=X_train,\n",
    "    y=y_train_bi,\n",
    "    scoring=scoring,\n",
    "    cv=cv,\n",
    "    return_train_score=False,\n",
    "    n_jobs=-1 \n",
    ")\n",
    "\n",
    "f1_mean = cv_results['test_f1'].mean()\n",
    "recall_mean = cv_results['test_recall'].mean()\n",
    "precision_mean = cv_results['test_precision'].mean()\n",
    "accuracy_mean = cv_results['test_accuracy'].mean()\n",
    "\n",
    "print(\"Cross-Validated Mean Scores:\")\n",
    "print(f\"F1 Score (CV Mean): {f1_mean:.4f}\")\n",
    "print(f\"Recall (CV Mean): {recall_mean:.4f}\")\n",
    "print(f\"Precision (CV Mean): {precision_mean:.4f}\")\n",
    "print(f\"Accuracy (CV Mean): {accuracy_mean:.4f}\")"
   ]
  },
  {
   "cell_type": "markdown",
   "metadata": {},
   "source": [
    "<h3>1.6. Class weight = 'balanced'"
   ]
  },
  {
   "cell_type": "code",
   "execution_count": 252,
   "metadata": {},
   "outputs": [
    {
     "name": "stdout",
     "output_type": "stream",
     "text": [
      "Cross-Validated Mean Scores:\n",
      "F1 Score (CV Mean): 0.6060\n",
      "Recall (CV Mean): 0.7099\n",
      "Precision (CV Mean): 0.5308\n",
      "Accuracy (CV Mean): 0.7238\n"
     ]
    }
   ],
   "source": [
    "pipeline = Pipeline([\n",
    "    ('scaler', StandardScaler()),\n",
    "    ('logreg', LogisticRegression(random_state=42, class_weight='balanced'))\n",
    "])\n",
    "\n",
    "scoring = ['f1', 'recall', 'precision', 'accuracy']\n",
    "\n",
    "cv_results = cross_validate(\n",
    "    estimator=pipeline,\n",
    "    X=X_train,\n",
    "    y=y_train_bi,\n",
    "    scoring=scoring,\n",
    "    cv=cv,\n",
    "    return_train_score=False,\n",
    "    n_jobs=-1\n",
    ")\n",
    "\n",
    "f1_mean = cv_results['test_f1'].mean()\n",
    "recall_mean = cv_results['test_recall'].mean()\n",
    "precision_mean = cv_results['test_precision'].mean()\n",
    "accuracy_mean = cv_results['test_accuracy'].mean()\n",
    "\n",
    "print(\"Cross-Validated Mean Scores:\")\n",
    "print(f\"F1 Score (CV Mean): {f1_mean:.4f}\")\n",
    "print(f\"Recall (CV Mean): {recall_mean:.4f}\")\n",
    "print(f\"Precision (CV Mean): {precision_mean:.4f}\")\n",
    "print(f\"Accuracy (CV Mean): {accuracy_mean:.4f}\")"
   ]
  },
  {
   "cell_type": "markdown",
   "metadata": {},
   "source": [
    "With a class ratio that is not extreme (7:3), the baseline model combined with class_weight='balanced' delivers better results compared to resampling methods. This result will be used as a foundation for further optimization to achieve the best possible performance."
   ]
  },
  {
   "cell_type": "markdown",
   "metadata": {},
   "source": [
    "<h3> 1.5. Feature selection "
   ]
  },
  {
   "cell_type": "code",
   "execution_count": 253,
   "metadata": {},
   "outputs": [
    {
     "name": "stdout",
     "output_type": "stream",
     "text": [
      "    n_features   f1_mean  recall_mean  precision_mean  accuracy_mean\n",
      "0            1  0.562323     0.780272        0.440031        0.63375\n",
      "1            2  0.558078     0.713946        0.459287        0.66000\n",
      "2            3  0.567645     0.722364        0.469147        0.66875\n",
      "3            4  0.550819     0.689286        0.460698        0.66250\n",
      "4            5  0.544292     0.676701        0.457464        0.66375\n",
      "5            6  0.556079     0.693537        0.465858        0.67000\n",
      "6            7  0.563832     0.685119        0.479663        0.68125\n",
      "7            8  0.565201     0.689371        0.481636        0.68250\n",
      "8            9  0.567117     0.680952        0.488228        0.68875\n",
      "9           10  0.572335     0.676616        0.497464        0.69625\n",
      "10          11  0.573318     0.676786        0.498923        0.69750\n",
      "11          12  0.585366     0.689201        0.510253        0.70750\n",
      "12          13  0.588447     0.697619        0.511039        0.70875\n",
      "13          14  0.590687     0.693452        0.516930        0.71250\n",
      "14          15  0.590559     0.697619        0.514423        0.71125\n",
      "15          16  0.578503     0.680952        0.504987        0.70250\n",
      "16          17  0.591592     0.697534        0.515483        0.71125\n",
      "17          18  0.595587     0.697534        0.521709        0.71625\n",
      "18          19  0.603580     0.705867        0.529699        0.72250\n",
      "19          20  0.599220     0.701616        0.524667        0.71875\n",
      "20          21  0.597711     0.701701        0.522700        0.71750\n",
      "21          22  0.604690     0.705782        0.531183        0.72375\n",
      "22          23  0.606986     0.709949        0.532319        0.72500\n",
      "23          24  0.606021     0.709949        0.530831        0.72375\n"
     ]
    }
   ],
   "source": [
    "results = []\n",
    "\n",
    "for n_features in range(1, X_train.shape[1] + 1): \n",
    "    pipeline = Pipeline([ \n",
    "        ('scaler', StandardScaler()),\n",
    "         \n",
    "        ('rfe', RFE(estimator=LogisticRegression(random_state=42, class_weight='balanced'), n_features_to_select=n_features)),  \n",
    "        ('model', LogisticRegression(random_state=42, class_weight='balanced'))  \n",
    "    ])\n",
    "    \n",
    "    cv_results = cross_validate(\n",
    "        estimator=pipeline,\n",
    "        X=X_train,  \n",
    "        y=y_train_bi,\n",
    "        scoring=scoring,\n",
    "        cv=cv,\n",
    "        return_train_score=False,\n",
    "        n_jobs=-1\n",
    "    )\n",
    "    \n",
    "    f1_mean = cv_results['test_f1'].mean()\n",
    "    recall_mean = cv_results['test_recall'].mean()\n",
    "    precision_mean = cv_results['test_precision'].mean()\n",
    "    accuracy_mean = cv_results['test_accuracy'].mean()\n",
    "    \n",
    "    results.append({\n",
    "        'n_features': n_features,\n",
    "        'f1_mean': f1_mean,\n",
    "        'recall_mean': recall_mean,\n",
    "        'precision_mean': precision_mean,\n",
    "        'accuracy_mean': accuracy_mean\n",
    "    })\n",
    "\n",
    "results_df = pd.DataFrame(results)\n",
    "print(results_df)"
   ]
  },
  {
   "cell_type": "markdown",
   "metadata": {},
   "source": [
    "The optimal number of features for the model is 24."
   ]
  },
  {
   "cell_type": "code",
   "execution_count": 254,
   "metadata": {},
   "outputs": [
    {
     "name": "stdout",
     "output_type": "stream",
     "text": [
      "Mean Cross-Validated Scores:\n",
      "F1 Score (Mean): 0.6070\n",
      "Recall (Mean): 0.7099\n",
      "Precision (Mean): 0.5323\n",
      "Accuracy (Mean): 0.7250\n"
     ]
    }
   ],
   "source": [
    "scoring = ['f1', 'recall', 'precision', 'accuracy']\n",
    "\n",
    "pipeline = Pipeline([\n",
    "    ('scaler', StandardScaler()), \n",
    "    ('rfe', RFE(estimator=LogisticRegression(random_state=42, class_weight='balanced'), n_features_to_select=23)),  \n",
    "    ('model', LogisticRegression(random_state=42, class_weight='balanced'))  \n",
    "])\n",
    "\n",
    "cv_results = cross_validate(\n",
    "    pipeline,\n",
    "    X=X_train,  \n",
    "    y=y_train_bi,\n",
    "    scoring=scoring,\n",
    "    cv=cv, \n",
    "    return_train_score=False,\n",
    "    n_jobs=-1\n",
    ")\n",
    "\n",
    "f1_mean = cv_results['test_f1'].mean()\n",
    "recall_mean = cv_results['test_recall'].mean()\n",
    "precision_mean = cv_results['test_precision'].mean()\n",
    "accuracy_mean = cv_results['test_accuracy'].mean()\n",
    "\n",
    "print(\"Mean Cross-Validated Scores:\")\n",
    "print(f\"F1 Score (Mean): {f1_mean:.4f}\")\n",
    "print(f\"Recall (Mean): {recall_mean:.4f}\")\n",
    "print(f\"Precision (Mean): {precision_mean:.4f}\")\n",
    "print(f\"Accuracy (Mean): {accuracy_mean:.4f}\")\n"
   ]
  },
  {
   "cell_type": "markdown",
   "metadata": {},
   "source": [
    "<h3> 1.6. Hyperparameter tuning "
   ]
  },
  {
   "cell_type": "code",
   "execution_count": 255,
   "metadata": {},
   "outputs": [],
   "source": [
    "X_train = np.array(X_train)\n",
    "y_train = np.array(y_train)"
   ]
  },
  {
   "cell_type": "code",
   "execution_count": 256,
   "metadata": {},
   "outputs": [
    {
     "name": "stdout",
     "output_type": "stream",
     "text": [
      "Fitting 5 folds for each of 10 candidates, totalling 50 fits\n"
     ]
    },
    {
     "name": "stdout",
     "output_type": "stream",
     "text": [
      "\n",
      "Best Parameters: {'model__C': 0.01, 'model__solver': 'lbfgs'}\n",
      "Mean CV F1-Score: 0.6171\n",
      "Mean CV Recall: 0.7305\n",
      "Mean CV Precision: 0.5352\n",
      "Mean CV Accuracy: 0.7275\n",
      "\n",
      "Test Set Metrics:\n",
      "Test F1-Score: 0.6197\n",
      "Test Recall: 0.7458\n",
      "Test Precision: 0.5301\n",
      "Test Accuracy: 0.7300\n"
     ]
    }
   ],
   "source": [
    "model = LogisticRegression(random_state=42, class_weight='balanced')\n",
    "\n",
    "n_features_to_select = 23\n",
    "\n",
    "pipeline = Pipeline([\n",
    "    ('scaler', StandardScaler()),\n",
    "    ('rfe', RFE(estimator=model, n_features_to_select=n_features_to_select)),\n",
    "    ('model', model)\n",
    "])\n",
    "\n",
    "param_grid = {\n",
    "    'model__C': [0.01, 0.1, 1, 10, 100],  \n",
    "    'model__solver': ['liblinear', 'lbfgs']  \n",
    "}\n",
    "\n",
    "scoring = {\n",
    "    'f1': 'f1',\n",
    "    'recall': 'recall',\n",
    "    'precision': 'precision',\n",
    "    'accuracy': 'accuracy'\n",
    "}\n",
    "\n",
    "grid_search = GridSearchCV(\n",
    "    estimator=pipeline,\n",
    "    param_grid=param_grid,\n",
    "    scoring=scoring,\n",
    "    refit='f1',\n",
    "    cv=cv,\n",
    "    n_jobs=-1,  \n",
    "    verbose=2    \n",
    ")\n",
    "\n",
    "grid_search.fit(X_train, y_train_bi)\n",
    "\n",
    "best_params = grid_search.best_params_\n",
    "best_f1_cv = grid_search.best_score_\n",
    "best_pipeline = grid_search.best_estimator_\n",
    "\n",
    "mean_recall_cv = grid_search.cv_results_['mean_test_recall'][grid_search.best_index_]\n",
    "mean_precision_cv = grid_search.cv_results_['mean_test_precision'][grid_search.best_index_]\n",
    "mean_accuracy_cv = grid_search.cv_results_['mean_test_accuracy'][grid_search.best_index_]\n",
    "\n",
    "y_pred_test = best_pipeline.predict(X_test)  \n",
    "\n",
    "test_f1 = f1_score(y_test_bi, y_pred_test)\n",
    "test_recall = recall_score(y_test_bi, y_pred_test)\n",
    "test_precision = precision_score(y_test_bi, y_pred_test)\n",
    "test_accuracy = accuracy_score(y_test_bi, y_pred_test)\n",
    "\n",
    "print(f\"\\nBest Parameters: {best_params}\")\n",
    "print(f\"Mean CV F1-Score: {best_f1_cv:.4f}\")\n",
    "print(f\"Mean CV Recall: {mean_recall_cv:.4f}\")\n",
    "print(f\"Mean CV Precision: {mean_precision_cv:.4f}\")\n",
    "print(f\"Mean CV Accuracy: {mean_accuracy_cv:.4f}\")\n",
    "\n",
    "print(\"\\nTest Set Metrics:\")\n",
    "print(f\"Test F1-Score: {test_f1:.4f}\")\n",
    "print(f\"Test Recall: {test_recall:.4f}\")\n",
    "print(f\"Test Precision: {test_precision:.4f}\")\n",
    "print(f\"Test Accuracy: {test_accuracy:.4f}\")"
   ]
  },
  {
   "cell_type": "markdown",
   "metadata": {},
   "source": [
    "After tuning, this is the best performance the model has achieved."
   ]
  },
  {
   "cell_type": "markdown",
   "metadata": {},
   "source": [
    "<h2>2. Decision Tree "
   ]
  },
  {
   "cell_type": "markdown",
   "metadata": {},
   "source": [
    "<h3>2.1 Baseline model"
   ]
  },
  {
   "cell_type": "code",
   "execution_count": 257,
   "metadata": {},
   "outputs": [
    {
     "name": "stdout",
     "output_type": "stream",
     "text": [
      "Mean CV F1-Score: 0.7711\n",
      "Mean CV Recall: 0.7585\n",
      "Mean CV Precision: 0.7849\n",
      "Mean CV Accuracy: 0.6850\n"
     ]
    }
   ],
   "source": [
    "model = DecisionTreeClassifier(random_state=42)\n",
    "\n",
    "cv_results = cross_validate(\n",
    "    estimator=model,\n",
    "    X=X_train,\n",
    "    y=y_train,\n",
    "    scoring=scoring,\n",
    "    cv=cv,\n",
    "    return_train_score=False,\n",
    "    n_jobs=-1  \n",
    ")\n",
    "\n",
    "mean_f1 = np.mean(cv_results['test_f1'])\n",
    "mean_recall = np.mean(cv_results['test_recall'])\n",
    "mean_precision = np.mean(cv_results['test_precision'])\n",
    "mean_accuracy = np.mean(cv_results['test_accuracy'])\n",
    "\n",
    "print(f\"Mean CV F1-Score: {mean_f1:.4f}\")\n",
    "print(f\"Mean CV Recall: {mean_recall:.4f}\")\n",
    "print(f\"Mean CV Precision: {mean_precision:.4f}\")\n",
    "print(f\"Mean CV Accuracy: {mean_accuracy:.4f}\")"
   ]
  },
  {
   "cell_type": "markdown",
   "metadata": {},
   "source": [
    "<h3>2.2. Class weight = 'balanced'"
   ]
  },
  {
   "cell_type": "markdown",
   "metadata": {},
   "source": [
    "Resampling is not strictly necessary for tree-based models, and through experimentation with various resampling techniques, it has been shown that these methods do not improve performance. Additionally, since the class imbalance is not severe, using class_weight='balanced' is sufficient."
   ]
  },
  {
   "cell_type": "code",
   "execution_count": 258,
   "metadata": {},
   "outputs": [
    {
     "name": "stdout",
     "output_type": "stream",
     "text": [
      "Mean CV F1-Score: 0.7839\n",
      "Mean CV Recall: 0.8015\n",
      "Mean CV Precision: 0.7678\n",
      "Mean CV Accuracy: 0.6912\n"
     ]
    }
   ],
   "source": [
    "model = DecisionTreeClassifier(random_state=42, class_weight='balanced')\n",
    "\n",
    "cv_results = cross_validate(\n",
    "    estimator=model,\n",
    "    X=X_train,\n",
    "    y=y_train,\n",
    "    scoring=scoring,\n",
    "    cv=cv,\n",
    "    return_train_score=False,\n",
    "    n_jobs=-1  \n",
    ")\n",
    "\n",
    "mean_f1 = np.mean(cv_results['test_f1'])\n",
    "mean_recall = np.mean(cv_results['test_recall'])\n",
    "mean_precision = np.mean(cv_results['test_precision'])\n",
    "mean_accuracy = np.mean(cv_results['test_accuracy'])\n",
    "\n",
    "print(f\"Mean CV F1-Score: {mean_f1:.4f}\")\n",
    "print(f\"Mean CV Recall: {mean_recall:.4f}\")\n",
    "print(f\"Mean CV Precision: {mean_precision:.4f}\")\n",
    "print(f\"Mean CV Accuracy: {mean_accuracy:.4f}\")"
   ]
  },
  {
   "cell_type": "markdown",
   "metadata": {},
   "source": [
    "<h3>2.3. Feature selection"
   ]
  },
  {
   "cell_type": "markdown",
   "metadata": {},
   "source": [
    "Tree-based models generally do not require feature selection as a strict prerequisite, but it improves performance in this case, so it is still applied."
   ]
  },
  {
   "cell_type": "code",
   "execution_count": 259,
   "metadata": {},
   "outputs": [],
   "source": [
    "base_model = DecisionTreeClassifier(random_state=42, class_weight='balanced')\n",
    "\n",
    "n_features = X_train.shape[1]\n",
    "\n",
    "results = []\n",
    "\n",
    "for i in range(1, n_features + 1):  \n",
    "    rfe = RFE(estimator=base_model, n_features_to_select=i)\n",
    "    \n",
    "    X_train_rfe = rfe.fit_transform(X_train, y_train)\n",
    "    \n",
    "    cv_results = cross_validate(\n",
    "        estimator=base_model,\n",
    "        X=X_train_rfe,\n",
    "        y=y_train,\n",
    "        scoring=scoring,  \n",
    "        cv=cv,           \n",
    "        return_train_score=False,\n",
    "        n_jobs=-1\n",
    "    )\n",
    "    \n",
    "    mean_f1 = np.mean(cv_results['test_f1'])\n",
    "    mean_recall = np.mean(cv_results['test_recall'])\n",
    "    mean_precision = np.mean(cv_results['test_precision'])\n",
    "    mean_accuracy = np.mean(cv_results['test_accuracy'])\n",
    "\n",
    "    results.append({\n",
    "        'n_features': i,\n",
    "        'mean_f1': mean_f1,\n",
    "        'mean_recall': mean_recall,\n",
    "        'mean_precision': mean_precision,\n",
    "        'mean_accuracy': mean_accuracy\n",
    "    })\n",
    "\n",
    "rfe_results = pd.DataFrame(results)"
   ]
  },
  {
   "cell_type": "code",
   "execution_count": 260,
   "metadata": {},
   "outputs": [
    {
     "data": {
      "text/html": [
       "<div>\n",
       "<style scoped>\n",
       "    .dataframe tbody tr th:only-of-type {\n",
       "        vertical-align: middle;\n",
       "    }\n",
       "\n",
       "    .dataframe tbody tr th {\n",
       "        vertical-align: top;\n",
       "    }\n",
       "\n",
       "    .dataframe thead th {\n",
       "        text-align: right;\n",
       "    }\n",
       "</style>\n",
       "<table border=\"1\" class=\"dataframe\">\n",
       "  <thead>\n",
       "    <tr style=\"text-align: right;\">\n",
       "      <th></th>\n",
       "      <th>n_features</th>\n",
       "      <th>mean_f1</th>\n",
       "      <th>mean_recall</th>\n",
       "      <th>mean_precision</th>\n",
       "      <th>mean_accuracy</th>\n",
       "    </tr>\n",
       "  </thead>\n",
       "  <tbody>\n",
       "    <tr>\n",
       "      <th>0</th>\n",
       "      <td>1</td>\n",
       "      <td>0.603765</td>\n",
       "      <td>0.538514</td>\n",
       "      <td>0.688576</td>\n",
       "      <td>0.50750</td>\n",
       "    </tr>\n",
       "    <tr>\n",
       "      <th>1</th>\n",
       "      <td>2</td>\n",
       "      <td>0.702614</td>\n",
       "      <td>0.685167</td>\n",
       "      <td>0.721643</td>\n",
       "      <td>0.59500</td>\n",
       "    </tr>\n",
       "    <tr>\n",
       "      <th>2</th>\n",
       "      <td>3</td>\n",
       "      <td>0.713946</td>\n",
       "      <td>0.701351</td>\n",
       "      <td>0.729319</td>\n",
       "      <td>0.60875</td>\n",
       "    </tr>\n",
       "    <tr>\n",
       "      <th>3</th>\n",
       "      <td>4</td>\n",
       "      <td>0.748485</td>\n",
       "      <td>0.758575</td>\n",
       "      <td>0.739603</td>\n",
       "      <td>0.64500</td>\n",
       "    </tr>\n",
       "    <tr>\n",
       "      <th>4</th>\n",
       "      <td>5</td>\n",
       "      <td>0.747730</td>\n",
       "      <td>0.753169</td>\n",
       "      <td>0.743180</td>\n",
       "      <td>0.64500</td>\n",
       "    </tr>\n",
       "    <tr>\n",
       "      <th>5</th>\n",
       "      <td>6</td>\n",
       "      <td>0.754517</td>\n",
       "      <td>0.762001</td>\n",
       "      <td>0.747549</td>\n",
       "      <td>0.65375</td>\n",
       "    </tr>\n",
       "    <tr>\n",
       "      <th>6</th>\n",
       "      <td>7</td>\n",
       "      <td>0.757920</td>\n",
       "      <td>0.771059</td>\n",
       "      <td>0.745468</td>\n",
       "      <td>0.65625</td>\n",
       "    </tr>\n",
       "    <tr>\n",
       "      <th>7</th>\n",
       "      <td>8</td>\n",
       "      <td>0.772751</td>\n",
       "      <td>0.781789</td>\n",
       "      <td>0.764298</td>\n",
       "      <td>0.67875</td>\n",
       "    </tr>\n",
       "    <tr>\n",
       "      <th>8</th>\n",
       "      <td>9</td>\n",
       "      <td>0.773346</td>\n",
       "      <td>0.785264</td>\n",
       "      <td>0.762273</td>\n",
       "      <td>0.67875</td>\n",
       "    </tr>\n",
       "    <tr>\n",
       "      <th>9</th>\n",
       "      <td>10</td>\n",
       "      <td>0.768775</td>\n",
       "      <td>0.781757</td>\n",
       "      <td>0.756480</td>\n",
       "      <td>0.67125</td>\n",
       "    </tr>\n",
       "    <tr>\n",
       "      <th>10</th>\n",
       "      <td>11</td>\n",
       "      <td>0.762512</td>\n",
       "      <td>0.772796</td>\n",
       "      <td>0.752577</td>\n",
       "      <td>0.66375</td>\n",
       "    </tr>\n",
       "    <tr>\n",
       "      <th>11</th>\n",
       "      <td>12</td>\n",
       "      <td>0.757102</td>\n",
       "      <td>0.762017</td>\n",
       "      <td>0.752596</td>\n",
       "      <td>0.65875</td>\n",
       "    </tr>\n",
       "    <tr>\n",
       "      <th>12</th>\n",
       "      <td>13</td>\n",
       "      <td>0.774188</td>\n",
       "      <td>0.788787</td>\n",
       "      <td>0.761005</td>\n",
       "      <td>0.68000</td>\n",
       "    </tr>\n",
       "    <tr>\n",
       "      <th>13</th>\n",
       "      <td>14</td>\n",
       "      <td>0.784621</td>\n",
       "      <td>0.797732</td>\n",
       "      <td>0.772562</td>\n",
       "      <td>0.69500</td>\n",
       "    </tr>\n",
       "    <tr>\n",
       "      <th>14</th>\n",
       "      <td>15</td>\n",
       "      <td>0.774394</td>\n",
       "      <td>0.787033</td>\n",
       "      <td>0.762389</td>\n",
       "      <td>0.68000</td>\n",
       "    </tr>\n",
       "    <tr>\n",
       "      <th>15</th>\n",
       "      <td>16</td>\n",
       "      <td>0.793755</td>\n",
       "      <td>0.803137</td>\n",
       "      <td>0.784977</td>\n",
       "      <td>0.70875</td>\n",
       "    </tr>\n",
       "    <tr>\n",
       "      <th>16</th>\n",
       "      <td>17</td>\n",
       "      <td>0.782879</td>\n",
       "      <td>0.794225</td>\n",
       "      <td>0.772218</td>\n",
       "      <td>0.69250</td>\n",
       "    </tr>\n",
       "    <tr>\n",
       "      <th>17</th>\n",
       "      <td>18</td>\n",
       "      <td>0.792088</td>\n",
       "      <td>0.805019</td>\n",
       "      <td>0.780132</td>\n",
       "      <td>0.70500</td>\n",
       "    </tr>\n",
       "    <tr>\n",
       "      <th>18</th>\n",
       "      <td>19</td>\n",
       "      <td>0.788285</td>\n",
       "      <td>0.799598</td>\n",
       "      <td>0.777498</td>\n",
       "      <td>0.70000</td>\n",
       "    </tr>\n",
       "    <tr>\n",
       "      <th>19</th>\n",
       "      <td>20</td>\n",
       "      <td>0.792081</td>\n",
       "      <td>0.804971</td>\n",
       "      <td>0.779955</td>\n",
       "      <td>0.70500</td>\n",
       "    </tr>\n",
       "    <tr>\n",
       "      <th>20</th>\n",
       "      <td>21</td>\n",
       "      <td>0.781119</td>\n",
       "      <td>0.794273</td>\n",
       "      <td>0.768617</td>\n",
       "      <td>0.68875</td>\n",
       "    </tr>\n",
       "    <tr>\n",
       "      <th>21</th>\n",
       "      <td>22</td>\n",
       "      <td>0.786864</td>\n",
       "      <td>0.792487</td>\n",
       "      <td>0.781715</td>\n",
       "      <td>0.70000</td>\n",
       "    </tr>\n",
       "    <tr>\n",
       "      <th>22</th>\n",
       "      <td>23</td>\n",
       "      <td>0.778715</td>\n",
       "      <td>0.783559</td>\n",
       "      <td>0.774181</td>\n",
       "      <td>0.68875</td>\n",
       "    </tr>\n",
       "    <tr>\n",
       "      <th>23</th>\n",
       "      <td>24</td>\n",
       "      <td>0.783888</td>\n",
       "      <td>0.801496</td>\n",
       "      <td>0.767812</td>\n",
       "      <td>0.69125</td>\n",
       "    </tr>\n",
       "  </tbody>\n",
       "</table>\n",
       "</div>"
      ],
      "text/plain": [
       "    n_features   mean_f1  mean_recall  mean_precision  mean_accuracy\n",
       "0            1  0.603765     0.538514        0.688576        0.50750\n",
       "1            2  0.702614     0.685167        0.721643        0.59500\n",
       "2            3  0.713946     0.701351        0.729319        0.60875\n",
       "3            4  0.748485     0.758575        0.739603        0.64500\n",
       "4            5  0.747730     0.753169        0.743180        0.64500\n",
       "5            6  0.754517     0.762001        0.747549        0.65375\n",
       "6            7  0.757920     0.771059        0.745468        0.65625\n",
       "7            8  0.772751     0.781789        0.764298        0.67875\n",
       "8            9  0.773346     0.785264        0.762273        0.67875\n",
       "9           10  0.768775     0.781757        0.756480        0.67125\n",
       "10          11  0.762512     0.772796        0.752577        0.66375\n",
       "11          12  0.757102     0.762017        0.752596        0.65875\n",
       "12          13  0.774188     0.788787        0.761005        0.68000\n",
       "13          14  0.784621     0.797732        0.772562        0.69500\n",
       "14          15  0.774394     0.787033        0.762389        0.68000\n",
       "15          16  0.793755     0.803137        0.784977        0.70875\n",
       "16          17  0.782879     0.794225        0.772218        0.69250\n",
       "17          18  0.792088     0.805019        0.780132        0.70500\n",
       "18          19  0.788285     0.799598        0.777498        0.70000\n",
       "19          20  0.792081     0.804971        0.779955        0.70500\n",
       "20          21  0.781119     0.794273        0.768617        0.68875\n",
       "21          22  0.786864     0.792487        0.781715        0.70000\n",
       "22          23  0.778715     0.783559        0.774181        0.68875\n",
       "23          24  0.783888     0.801496        0.767812        0.69125"
      ]
     },
     "execution_count": 260,
     "metadata": {},
     "output_type": "execute_result"
    }
   ],
   "source": [
    "rfe_results"
   ]
  },
  {
   "cell_type": "markdown",
   "metadata": {},
   "source": [
    "The optimal number of features for the model is 18."
   ]
  },
  {
   "cell_type": "code",
   "execution_count": 261,
   "metadata": {},
   "outputs": [
    {
     "name": "stdout",
     "output_type": "stream",
     "text": [
      "Mean CV F1-Score: 0.7921\n",
      "Mean CV Recall: 0.8050\n",
      "Mean CV Precision: 0.7801\n",
      "Mean CV Accuracy: 0.7050\n",
      "\n",
      "Test Set Metrics:\n",
      "Test F1-Score: 0.7944\n",
      "Test Recall: 0.8085\n",
      "Test Precision: 0.7808\n",
      "Test Accuracy: 0.7050\n"
     ]
    }
   ],
   "source": [
    "base_model = DecisionTreeClassifier(random_state=42, class_weight='balanced')\n",
    "\n",
    "rfe = RFE(estimator=base_model, n_features_to_select=18)\n",
    "\n",
    "X_train_rfe = rfe.fit_transform(X_train, y_train)\n",
    "\n",
    "cv_results = cross_validate(\n",
    "    estimator=base_model,\n",
    "    X=X_train_rfe,\n",
    "    y=y_train,\n",
    "    scoring=scoring, \n",
    "    cv=cv,           \n",
    "    return_train_score=False,\n",
    "    n_jobs=-1\n",
    ")\n",
    "\n",
    "base_model.fit(X_train_rfe, y_train)\n",
    "\n",
    "mean_f1 = np.mean(cv_results['test_f1'])\n",
    "mean_recall = np.mean(cv_results['test_recall'])\n",
    "mean_precision = np.mean(cv_results['test_precision'])\n",
    "mean_accuracy = np.mean(cv_results['test_accuracy'])\n",
    "\n",
    "X_test_rfe = rfe.transform(X_test)\n",
    "\n",
    "y_pred_test = base_model.predict(X_test_rfe)\n",
    "\n",
    "test_f1 = f1_score(y_test, y_pred_test)\n",
    "test_recall = recall_score(y_test, y_pred_test)\n",
    "test_precision = precision_score(y_test, y_pred_test)\n",
    "test_accuracy = accuracy_score(y_test, y_pred_test)\n",
    "print(f\"Mean CV F1-Score: {mean_f1:.4f}\")\n",
    "print(f\"Mean CV Recall: {mean_recall:.4f}\")\n",
    "print(f\"Mean CV Precision: {mean_precision:.4f}\")\n",
    "print(f\"Mean CV Accuracy: {mean_accuracy:.4f}\")\n",
    "\n",
    "print(\"\\nTest Set Metrics:\")\n",
    "print(f\"Test F1-Score: {test_f1:.4f}\")\n",
    "print(f\"Test Recall: {test_recall:.4f}\")\n",
    "print(f\"Test Precision: {test_precision:.4f}\")\n",
    "print(f\"Test Accuracy: {test_accuracy:.4f}\")"
   ]
  },
  {
   "cell_type": "markdown",
   "metadata": {},
   "source": [
    "<h3>2.4. Hyperparameter tuning "
   ]
  },
  {
   "cell_type": "code",
   "execution_count": 262,
   "metadata": {},
   "outputs": [
    {
     "name": "stdout",
     "output_type": "stream",
     "text": [
      "Fitting 5 folds for each of 600 candidates, totalling 3000 fits\n",
      "\n",
      "Best Parameters: {'model__max_depth': 30, 'model__max_features': 0.7, 'model__min_samples_leaf': 1, 'model__min_samples_split': 2}\n",
      "Mean CV F1-Score: 0.7850\n",
      "Mean CV Recall: 0.7979\n",
      "Mean CV Precision: 0.7733\n",
      "Mean CV Accuracy: 0.6950\n"
     ]
    }
   ],
   "source": [
    "model = DecisionTreeClassifier(random_state=42, class_weight='balanced')\n",
    "\n",
    "param_grid = {\n",
    "    'model__max_depth': [10, 20, 30, None], \n",
    "    'model__min_samples_split': [2, 20, 50, 100, 200],  \n",
    "    'model__min_samples_leaf': [1, 5, 10, 20, 50], \n",
    "    'model__max_features': [None, 'sqrt', 'log2', 0.3, 0.5, 0.7]  \n",
    "}\n",
    "\n",
    "n_features_to_select = 18\n",
    "\n",
    "pipeline = Pipeline([\n",
    "    ('rfe', RFE(estimator=model, n_features_to_select=n_features_to_select)),\n",
    "    ('model', model)\n",
    "])\n",
    "\n",
    "scoring = {\n",
    "    'f1': 'f1',\n",
    "    'recall': 'recall',\n",
    "    'precision': 'precision',\n",
    "    'accuracy': 'accuracy'\n",
    "}\n",
    "\n",
    "grid_search = GridSearchCV(\n",
    "    estimator=pipeline,\n",
    "    param_grid=param_grid,\n",
    "    scoring=scoring,\n",
    "    refit='f1',\n",
    "    cv=cv,\n",
    "    n_jobs=-1,  \n",
    "    verbose=2    \n",
    ")\n",
    "\n",
    "grid_search.fit(X_train, y_train)\n",
    "\n",
    "best_params = grid_search.best_params_\n",
    "best_f1_cv = grid_search.best_score_\n",
    "best_pipeline = grid_search.best_estimator_\n",
    "\n",
    "mean_recall_cv = grid_search.cv_results_['mean_test_recall'][grid_search.best_index_]\n",
    "mean_precision_cv = grid_search.cv_results_['mean_test_precision'][grid_search.best_index_]\n",
    "mean_accuracy_cv = grid_search.cv_results_['mean_test_accuracy'][grid_search.best_index_]\n",
    "\n",
    "y_pred_test = best_pipeline.predict(X_test) \n",
    "y_proba_test = best_pipeline.predict_proba(X_test)[:, 1]  \n",
    "\n",
    "test_f1 = f1_score(y_test, y_pred_test)\n",
    "test_recall = recall_score(y_test, y_pred_test)\n",
    "test_precision = precision_score(y_test, y_pred_test)\n",
    "test_accuracy = accuracy_score(y_test, y_pred_test)\n",
    "test_roc_auc = roc_auc_score(y_test, y_proba_test)\n",
    "\n",
    "print(f\"\\nBest Parameters: {best_params}\")\n",
    "print(f\"Mean CV F1-Score: {best_f1_cv:.4f}\")\n",
    "print(f\"Mean CV Recall: {mean_recall_cv:.4f}\")\n",
    "print(f\"Mean CV Precision: {mean_precision_cv:.4f}\")\n",
    "print(f\"Mean CV Accuracy: {mean_accuracy_cv:.4f}\")"
   ]
  },
  {
   "cell_type": "markdown",
   "metadata": {},
   "source": [
    "The model based on feature selection and class_weight='balanced' delivers the best performance."
   ]
  },
  {
   "cell_type": "markdown",
   "metadata": {},
   "source": [
    "<h2>3. Random forest "
   ]
  },
  {
   "cell_type": "markdown",
   "metadata": {},
   "source": [
    "<h3>3.1. Baseline model"
   ]
  },
  {
   "cell_type": "code",
   "execution_count": 263,
   "metadata": {},
   "outputs": [
    {
     "name": "stdout",
     "output_type": "stream",
     "text": [
      "Mean CV F1-Score: 0.8441\n",
      "Mean CV Recall: 0.9249\n",
      "Mean CV Precision: 0.7766\n",
      "Mean CV Accuracy: 0.7612\n"
     ]
    }
   ],
   "source": [
    "model = RandomForestClassifier(random_state=42)\n",
    "\n",
    "coring = ['f1', 'recall', 'precision', 'accuracy']\n",
    "\n",
    "cv_results = cross_validate(\n",
    "    estimator=model,\n",
    "    X=X_train,\n",
    "    y=y_train,\n",
    "    scoring=scoring,\n",
    "    cv=cv,\n",
    "    return_train_score=False,\n",
    "    n_jobs=-1 \n",
    ")\n",
    "\n",
    "mean_f1 = np.mean(cv_results['test_f1'])\n",
    "mean_recall = np.mean(cv_results['test_recall'])\n",
    "mean_precision = np.mean(cv_results['test_precision'])\n",
    "mean_accuracy = np.mean(cv_results['test_accuracy'])\n",
    "\n",
    "print(f\"Mean CV F1-Score: {mean_f1:.4f}\")\n",
    "print(f\"Mean CV Recall: {mean_recall:.4f}\")\n",
    "print(f\"Mean CV Precision: {mean_precision:.4f}\")\n",
    "print(f\"Mean CV Accuracy: {mean_accuracy:.4f}\")"
   ]
  },
  {
   "cell_type": "markdown",
   "metadata": {},
   "source": [
    "<h3>3.2. Class weight = 'balanced'"
   ]
  },
  {
   "cell_type": "markdown",
   "metadata": {},
   "source": [
    "Similar to the decision tree model above, we will only apply class_weight='balanced'"
   ]
  },
  {
   "cell_type": "code",
   "execution_count": 264,
   "metadata": {},
   "outputs": [
    {
     "name": "stdout",
     "output_type": "stream",
     "text": [
      "Mean CV F1-Score: 0.8368\n",
      "Mean CV Recall: 0.9267\n",
      "Mean CV Precision: 0.7629\n",
      "Mean CV Accuracy: 0.7475\n"
     ]
    }
   ],
   "source": [
    "model = RandomForestClassifier(random_state=42, class_weight='balanced')\n",
    "\n",
    "coring = ['f1', 'recall', 'precision', 'accuracy']\n",
    "\n",
    "cv_results = cross_validate(\n",
    "    estimator=model,\n",
    "    X=X_train,\n",
    "    y=y_train,\n",
    "    scoring=scoring,\n",
    "    cv=cv,\n",
    "    return_train_score=False,\n",
    "    n_jobs=-1 \n",
    ")\n",
    "\n",
    "mean_f1 = np.mean(cv_results['test_f1'])\n",
    "mean_recall = np.mean(cv_results['test_recall'])\n",
    "mean_precision = np.mean(cv_results['test_precision'])\n",
    "mean_accuracy = np.mean(cv_results['test_accuracy'])\n",
    "\n",
    "print(f\"Mean CV F1-Score: {mean_f1:.4f}\")\n",
    "print(f\"Mean CV Recall: {mean_recall:.4f}\")\n",
    "print(f\"Mean CV Precision: {mean_precision:.4f}\")\n",
    "print(f\"Mean CV Accuracy: {mean_accuracy:.4f}\")"
   ]
  },
  {
   "cell_type": "markdown",
   "metadata": {},
   "source": [
    "<h3> 3.2. Feature selection (optional)"
   ]
  },
  {
   "cell_type": "markdown",
   "metadata": {},
   "source": [
    "- Similar to the decision tree model above, random forest generally does not require feature selection as a strict prerequisite; however, it improves performance in this case, so it is still applied. \n",
    "- The results of using class_weight='balanced' and not using it show no significant difference. However, to optimize the F1 score, the baseline model will be used as the foundation for further optimization."
   ]
  },
  {
   "cell_type": "code",
   "execution_count": 265,
   "metadata": {},
   "outputs": [
    {
     "name": "stdout",
     "output_type": "stream",
     "text": [
      "    n_features   f1_mean  recall_mean  precision_mean  accuracy_mean\n",
      "0            1  0.793570     0.896284        0.712519        0.67500\n",
      "1            2  0.758824     0.797893        0.724209        0.64625\n",
      "2            3  0.786033     0.842551        0.736884        0.68000\n",
      "3            4  0.800061     0.838996        0.765111        0.70750\n",
      "4            5  0.820437     0.862210        0.783949        0.73625\n",
      "5            6  0.821593     0.860473        0.786504        0.73875\n",
      "6            7  0.821477     0.869337        0.778712        0.73625\n",
      "7            8  0.836808     0.894450        0.786241        0.75625\n",
      "8            9  0.834473     0.892632        0.783697        0.75250\n",
      "9           10  0.842234     0.912291        0.782343        0.76125\n",
      "10          11  0.834238     0.894466        0.781986        0.75125\n",
      "11          12  0.833759     0.901625        0.775536        0.74875\n",
      "12          13  0.837829     0.905180        0.779885        0.75500\n",
      "13          14  0.840062     0.906966        0.782581        0.75875\n",
      "14          15  0.838351     0.914109        0.774365        0.75375\n",
      "15          16  0.839682     0.914109        0.776587        0.75625\n",
      "16          17  0.839310     0.912307        0.777395        0.75625\n",
      "17          18  0.831711     0.894385        0.777555        0.74750\n",
      "18          19  0.844819     0.915862        0.784122        0.76500\n",
      "19          20  0.844648     0.917680        0.782773        0.76375\n",
      "20          21  0.838291     0.910489        0.776875        0.75500\n",
      "21          22  0.843301     0.919450        0.778947        0.76125\n",
      "22          23  0.840475     0.923037        0.771704        0.75500\n",
      "23          24  0.844085     0.924871        0.776631        0.76125\n"
     ]
    }
   ],
   "source": [
    "results = []\n",
    "\n",
    "for n_features in range(1, X_train.shape[1] + 1):\n",
    "    pipeline = Pipeline([\n",
    "        ('rfe', RFE(estimator=RandomForestClassifier(random_state=42), n_features_to_select=n_features)),  \n",
    "        ('model', RandomForestClassifier(random_state=42))  \n",
    "    ])\n",
    "\n",
    "    cv_results = cross_validate(\n",
    "        estimator=pipeline,\n",
    "        X=X_train,  \n",
    "        y=y_train,\n",
    "        scoring=scoring,\n",
    "        cv=cv,\n",
    "        return_train_score=False,\n",
    "        n_jobs=-1\n",
    "    )\n",
    "\n",
    "    f1_mean = cv_results['test_f1'].mean()\n",
    "    recall_mean = cv_results['test_recall'].mean()\n",
    "    precision_mean = cv_results['test_precision'].mean()\n",
    "    accuracy_mean = cv_results['test_accuracy'].mean()\n",
    "\n",
    "    results.append({\n",
    "        'n_features': n_features,\n",
    "        'f1_mean': f1_mean,\n",
    "        'recall_mean': recall_mean,\n",
    "        'precision_mean': precision_mean,\n",
    "        'accuracy_mean': accuracy_mean\n",
    "    })\n",
    "\n",
    "results_df = pd.DataFrame(results)\n",
    "print(results_df)\n"
   ]
  },
  {
   "cell_type": "markdown",
   "metadata": {},
   "source": [
    "The optimal number of features for the model is 19."
   ]
  },
  {
   "cell_type": "markdown",
   "metadata": {},
   "source": [
    "<h3> 3.3 Hyperparameter tuning "
   ]
  },
  {
   "cell_type": "code",
   "execution_count": 266,
   "metadata": {},
   "outputs": [
    {
     "name": "stdout",
     "output_type": "stream",
     "text": [
      "Fitting 5 folds for each of 324 candidates, totalling 1620 fits\n",
      "\n",
      "Best Parameters: {'model__max_depth': 10, 'model__max_features': 'sqrt', 'model__min_samples_leaf': 1, 'model__min_samples_split': 5, 'model__n_estimators': 100}\n",
      "Mean CV F1-Score: 0.8518\n",
      "Mean CV Recall: 0.9320\n",
      "Mean CV Precision: 0.7847\n",
      "Mean CV Accuracy: 0.7737\n",
      "\n",
      "Test Set Metrics:\n",
      "Test F1-Score: 0.8581\n",
      "Test Recall: 0.9433\n",
      "Test Precision: 0.7870\n",
      "Test Accuracy: 0.7800\n",
      "Test ROC AUC: 0.8104\n"
     ]
    }
   ],
   "source": [
    "param_grid = {\n",
    "    'model__n_estimators': [50, 100, 200],\n",
    "    'model__max_depth': [5, 10, 20, None],\n",
    "    'model__min_samples_split': [2, 5, 10],\n",
    "    'model__min_samples_leaf': [1, 2, 4],\n",
    "    'model__max_features': ['sqrt', 'log2', None]\n",
    "}\n",
    "\n",
    "model = RandomForestClassifier(random_state=42)\n",
    "\n",
    "n_features_to_select = 19\n",
    "\n",
    "pipeline = Pipeline([\n",
    "    ('rfe', RFE(estimator=model, n_features_to_select=n_features_to_select)),\n",
    "    ('model', model)\n",
    "])\n",
    "\n",
    "scoring = {\n",
    "    'f1': 'f1',\n",
    "    'recall': 'recall',\n",
    "    'precision': 'precision',\n",
    "    'accuracy': 'accuracy'\n",
    "}\n",
    "\n",
    "grid_search = GridSearchCV(\n",
    "    estimator=pipeline,\n",
    "    param_grid=param_grid,\n",
    "    scoring=scoring,\n",
    "    refit='f1',\n",
    "    cv=cv,\n",
    "    n_jobs=-1,  \n",
    "    verbose=2    \n",
    ")\n",
    "\n",
    "grid_search.fit(X_train, y_train)\n",
    "\n",
    "best_params = grid_search.best_params_\n",
    "best_f1_cv = grid_search.best_score_\n",
    "best_pipeline = grid_search.best_estimator_\n",
    "\n",
    "mean_recall_cv = grid_search.cv_results_['mean_test_recall'][grid_search.best_index_]\n",
    "mean_precision_cv = grid_search.cv_results_['mean_test_precision'][grid_search.best_index_]\n",
    "mean_accuracy_cv = grid_search.cv_results_['mean_test_accuracy'][grid_search.best_index_]\n",
    "\n",
    "y_pred_test = best_pipeline.predict(X_test) \n",
    "y_proba_test = best_pipeline.predict_proba(X_test)[:, 1]  \n",
    "\n",
    "test_f1 = f1_score(y_test, y_pred_test)\n",
    "test_recall = recall_score(y_test, y_pred_test)\n",
    "test_precision = precision_score(y_test, y_pred_test)\n",
    "test_accuracy = accuracy_score(y_test, y_pred_test)\n",
    "test_roc_auc = roc_auc_score(y_test, y_proba_test)\n",
    "\n",
    "print(f\"\\nBest Parameters: {best_params}\")\n",
    "print(f\"Mean CV F1-Score: {best_f1_cv:.4f}\")\n",
    "print(f\"Mean CV Recall: {mean_recall_cv:.4f}\")\n",
    "print(f\"Mean CV Precision: {mean_precision_cv:.4f}\")\n",
    "print(f\"Mean CV Accuracy: {mean_accuracy_cv:.4f}\")\n",
    "\n",
    "print(\"\\nTest Set Metrics:\")\n",
    "print(f\"Test F1-Score: {test_f1:.4f}\")\n",
    "print(f\"Test Recall: {test_recall:.4f}\")\n",
    "print(f\"Test Precision: {test_precision:.4f}\")\n",
    "print(f\"Test Accuracy: {test_accuracy:.4f}\")\n",
    "print(f\"Test ROC AUC: {test_roc_auc:.4f}\")"
   ]
  },
  {
   "cell_type": "markdown",
   "metadata": {},
   "source": [
    "After tuning, this is the best performance the model has achieved."
   ]
  },
  {
   "cell_type": "markdown",
   "metadata": {},
   "source": [
    "<h2>4. SVM"
   ]
  },
  {
   "cell_type": "markdown",
   "metadata": {},
   "source": [
    "I opted to use a linear kernel SVM throughout all steps, including feature selection with Recursive Feature Elimination (RFE), model training, and evaluation. This choice was made not only to ensure interpretability, as the linear kernel provides clear feature importance coefficients, but also because it suited the dataset better, achieving higher performance compared to  the default RBF model."
   ]
  },
  {
   "cell_type": "markdown",
   "metadata": {},
   "source": [
    "<h3>4.1 Baseline model"
   ]
  },
  {
   "cell_type": "code",
   "execution_count": 267,
   "metadata": {},
   "outputs": [
    {
     "name": "stdout",
     "output_type": "stream",
     "text": [
      "Mean CV F1-Score: 0.8425\n",
      "Mean CV Recall: 0.8891\n",
      "Mean CV Precision: 0.8010\n",
      "Mean CV Accuracy: 0.7675\n"
     ]
    }
   ],
   "source": [
    "model = SVC(random_state=42, kernel=\"linear\")\n",
    "\n",
    "scoring = ['f1', 'recall', 'precision', 'accuracy']\n",
    "\n",
    "cv_results = cross_validate(\n",
    "    estimator=model,\n",
    "    X=X_train,\n",
    "    y=y_train,\n",
    "    scoring=scoring,\n",
    "    cv=cv,  \n",
    "    return_train_score=False,\n",
    "    n_jobs=-1  \n",
    ")\n",
    "\n",
    "mean_f1_cv = np.mean(cv_results['test_f1'])\n",
    "mean_recall_cv = np.mean(cv_results['test_recall'])\n",
    "mean_precision_cv = np.mean(cv_results['test_precision'])\n",
    "mean_accuracy_cv = np.mean(cv_results['test_accuracy'])\n",
    "\n",
    "print(f\"Mean CV F1-Score: {mean_f1_cv:.4f}\")\n",
    "print(f\"Mean CV Recall: {mean_recall_cv:.4f}\")\n",
    "print(f\"Mean CV Precision: {mean_precision_cv:.4f}\")\n",
    "print(f\"Mean CV Accuracy: {mean_accuracy_cv:.4f}\")"
   ]
  },
  {
   "cell_type": "markdown",
   "metadata": {},
   "source": [
    "<h3>4.2. Class weight = 'balanced'"
   ]
  },
  {
   "cell_type": "code",
   "execution_count": 268,
   "metadata": {},
   "outputs": [
    {
     "name": "stdout",
     "output_type": "stream",
     "text": [
      "Mean CV F1-Score: 0.7770\n",
      "Mean CV Recall: 0.7157\n",
      "Mean CV Precision: 0.8522\n",
      "Mean CV Accuracy: 0.7137\n"
     ]
    }
   ],
   "source": [
    "model = SVC(random_state=42, class_weight='balanced', kernel=\"linear\")\n",
    "\n",
    "scoring = ['f1', 'recall', 'precision', 'accuracy']\n",
    "\n",
    "cv_results = cross_validate(\n",
    "    estimator=model,\n",
    "    X=X_train,\n",
    "    y=y_train,\n",
    "    scoring=scoring,\n",
    "    cv=cv,  \n",
    "    return_train_score=False,\n",
    "    n_jobs=-1  \n",
    ")\n",
    "\n",
    "mean_f1_cv = np.mean(cv_results['test_f1'])\n",
    "mean_recall_cv = np.mean(cv_results['test_recall'])\n",
    "mean_precision_cv = np.mean(cv_results['test_precision'])\n",
    "mean_accuracy_cv = np.mean(cv_results['test_accuracy'])\n",
    "\n",
    "print(f\"Mean CV F1-Score: {mean_f1_cv:.4f}\")\n",
    "print(f\"Mean CV Recall: {mean_recall_cv:.4f}\")\n",
    "print(f\"Mean CV Precision: {mean_precision_cv:.4f}\")\n",
    "print(f\"Mean CV Accuracy: {mean_accuracy_cv:.4f}\")"
   ]
  },
  {
   "cell_type": "markdown",
   "metadata": {},
   "source": [
    "<h3>4.3. Oversampling "
   ]
  },
  {
   "cell_type": "code",
   "execution_count": 269,
   "metadata": {},
   "outputs": [
    {
     "name": "stdout",
     "output_type": "stream",
     "text": [
      "Cross-Validation Metrics:\n",
      "Mean CV F1-Score: 0.8194\n",
      "Mean CV Recall: 0.8139\n",
      "Mean CV Precision: 0.8252\n",
      "Mean CV Accuracy: 0.7488\n"
     ]
    }
   ],
   "source": [
    "pipeline = Pipeline([\n",
    "    ('smote', SMOTE(random_state=42)), \n",
    "    ('scaler', StandardScaler()),  \n",
    "    ('model', SVC(random_state=42, kernel=\"linear\"))  \n",
    "])\n",
    "\n",
    "scoring = ['f1', 'recall', 'precision', 'accuracy']\n",
    "cv_results = cross_validate(\n",
    "    estimator=pipeline,\n",
    "    X=X_train,\n",
    "    y=y_train,\n",
    "    scoring=scoring,\n",
    "    cv=cv,  \n",
    "    return_train_score=False,\n",
    "    n_jobs=-1 \n",
    ")\n",
    "\n",
    "mean_f1_cv = np.mean(cv_results['test_f1'])\n",
    "mean_recall_cv = np.mean(cv_results['test_recall'])\n",
    "mean_precision_cv = np.mean(cv_results['test_precision'])\n",
    "mean_accuracy_cv = np.mean(cv_results['test_accuracy'])\n",
    "\n",
    "pipeline.fit(X_train, y_train)\n",
    "\n",
    "print(\"Cross-Validation Metrics:\")\n",
    "print(f\"Mean CV F1-Score: {mean_f1_cv:.4f}\")\n",
    "print(f\"Mean CV Recall: {mean_recall_cv:.4f}\")\n",
    "print(f\"Mean CV Precision: {mean_precision_cv:.4f}\")\n",
    "print(f\"Mean CV Accuracy: {mean_accuracy_cv:.4f}\")"
   ]
  },
  {
   "cell_type": "markdown",
   "metadata": {},
   "source": [
    "<h3> 4.4. Undersampling "
   ]
  },
  {
   "cell_type": "code",
   "execution_count": 270,
   "metadata": {},
   "outputs": [
    {
     "name": "stdout",
     "output_type": "stream",
     "text": [
      "Cross-Validation Metrics:\n",
      "Mean CV F1-Score: 0.8355\n",
      "Mean CV Recall: 0.8533\n",
      "Mean CV Precision: 0.8190\n",
      "Mean CV Accuracy: 0.7650\n",
      "\n",
      "Test Set Metrics:\n",
      "Test F1-Score: 0.8432\n",
      "Test Recall: 0.8582\n",
      "Test Precision: 0.8288\n",
      "Test Accuracy: 0.7750\n"
     ]
    }
   ],
   "source": [
    "pipeline = Pipeline([  \n",
    "    ('tomek', TomekLinks()),  \n",
    "    ('scaler', StandardScaler()),\n",
    "    ('model', SVC(random_state=42,  kernel=\"linear\"))  \n",
    "])\n",
    "\n",
    "scoring = ['f1', 'recall', 'precision', 'accuracy']\n",
    "cv_results = cross_validate(\n",
    "    estimator=pipeline,\n",
    "    X=X_train,\n",
    "    y=y_train,\n",
    "    scoring=scoring,\n",
    "    cv=cv,  \n",
    "    return_train_score=False,\n",
    "    n_jobs=-1  \n",
    ")\n",
    "\n",
    "mean_f1_cv = np.mean(cv_results['test_f1'])\n",
    "mean_recall_cv = np.mean(cv_results['test_recall'])\n",
    "mean_precision_cv = np.mean(cv_results['test_precision'])\n",
    "mean_accuracy_cv = np.mean(cv_results['test_accuracy'])\n",
    "\n",
    "pipeline.fit(X_train, y_train)\n",
    "\n",
    "y_pred_test = pipeline.predict(X_test)\n",
    "\n",
    "test_f1 = f1_score(y_test, y_pred_test)\n",
    "test_recall = recall_score(y_test, y_pred_test)\n",
    "test_precision = precision_score(y_test, y_pred_test)\n",
    "test_accuracy = accuracy_score(y_test, y_pred_test)\n",
    "test_roc_auc = roc_auc_score(y_test, y_proba_test)\n",
    "\n",
    "print(\"Cross-Validation Metrics:\")\n",
    "print(f\"Mean CV F1-Score: {mean_f1_cv:.4f}\")\n",
    "print(f\"Mean CV Recall: {mean_recall_cv:.4f}\")\n",
    "print(f\"Mean CV Precision: {mean_precision_cv:.4f}\")\n",
    "print(f\"Mean CV Accuracy: {mean_accuracy_cv:.4f}\")\n",
    "\n",
    "print(\"\\nTest Set Metrics:\")\n",
    "print(f\"Test F1-Score: {test_f1:.4f}\")\n",
    "print(f\"Test Recall: {test_recall:.4f}\")\n",
    "print(f\"Test Precision: {test_precision:.4f}\")\n",
    "print(f\"Test Accuracy: {test_accuracy:.4f}\")"
   ]
  },
  {
   "cell_type": "markdown",
   "metadata": {},
   "source": [
    "<h3> 4.5. Combining oversampling and undersampling"
   ]
  },
  {
   "cell_type": "code",
   "execution_count": 271,
   "metadata": {},
   "outputs": [
    {
     "name": "stdout",
     "output_type": "stream",
     "text": [
      "Mean CV F1-Score: 0.8154\n",
      "Mean CV Recall: 0.8122\n",
      "Mean CV Precision: 0.8195\n",
      "Mean CV Accuracy: 0.7425\n"
     ]
    }
   ],
   "source": [
    "model = SVC(random_state=42)\n",
    "\n",
    "pipeline = Pipeline([\n",
    "    ('smote_tomek', SMOTETomek(random_state=42)),\n",
    "    ('scaler', StandardScaler()), \n",
    "    ('model', SVC(random_state=42, kernel=\"linear\"))\n",
    "])\n",
    "\n",
    "scoring = ['f1', 'recall', 'precision', 'accuracy']\n",
    "\n",
    "cv_results = cross_validate(\n",
    "    estimator=pipeline,\n",
    "    X=X_train,\n",
    "    y=y_train,\n",
    "    scoring=scoring,\n",
    "    cv=cv,  \n",
    "    return_train_score=False,\n",
    "    n_jobs=-1  \n",
    ")\n",
    "\n",
    "mean_f1_cv = np.mean(cv_results['test_f1'])\n",
    "mean_recall_cv = np.mean(cv_results['test_recall'])\n",
    "mean_precision_cv = np.mean(cv_results['test_precision'])\n",
    "mean_accuracy_cv = np.mean(cv_results['test_accuracy'])\n",
    "\n",
    "print(f\"Mean CV F1-Score: {mean_f1_cv:.4f}\")\n",
    "print(f\"Mean CV Recall: {mean_recall_cv:.4f}\")\n",
    "print(f\"Mean CV Precision: {mean_precision_cv:.4f}\")\n",
    "print(f\"Mean CV Accuracy: {mean_accuracy_cv:.4f}\")"
   ]
  },
  {
   "cell_type": "markdown",
   "metadata": {},
   "source": [
    "<h3>4.4. Feature selection "
   ]
  },
  {
   "cell_type": "markdown",
   "metadata": {},
   "source": [
    "Since the baseline model provides the best results, it will be chosen for further optimization."
   ]
  },
  {
   "cell_type": "code",
   "execution_count": 272,
   "metadata": {},
   "outputs": [
    {
     "name": "stdout",
     "output_type": "stream",
     "text": [
      "    n_features   f1_mean  recall_mean  precision_mean  accuracy_mean\n",
      "0            1  0.822661     1.000000        0.698750        0.69875\n",
      "1            2  0.817046     0.987500        0.696908        0.69125\n",
      "2            3  0.820720     0.924743        0.738460        0.71875\n",
      "3            4  0.827990     0.917664        0.754480        0.73375\n",
      "4            5  0.832910     0.923037        0.758968        0.74125\n",
      "5            6  0.835036     0.914093        0.769109        0.74750\n",
      "6            7  0.831449     0.892680        0.778553        0.74625\n",
      "7            8  0.831294     0.896236        0.775631        0.74500\n",
      "8            9  0.831027     0.887307        0.782006        0.74750\n",
      "9           10  0.831438     0.885521        0.783937        0.74875\n",
      "10          11  0.832617     0.885521        0.785750        0.75125\n",
      "11          12  0.834387     0.887307        0.787676        0.75375\n",
      "12          13  0.830750     0.880164        0.787142        0.74875\n",
      "13          14  0.833058     0.878394        0.792697        0.75375\n",
      "14          15  0.832466     0.883752        0.787207        0.75125\n",
      "15          16  0.833665     0.881966        0.790847        0.75375\n",
      "16          17  0.835501     0.889109        0.788289        0.75500\n",
      "17          18  0.834142     0.889077        0.785871        0.75250\n",
      "18          19  0.840203     0.887307        0.798243        0.76375\n",
      "19          20  0.836970     0.880164        0.798242        0.76000\n",
      "20          21  0.840044     0.881950        0.802227        0.76500\n",
      "21          22  0.841568     0.887307        0.800639        0.76625\n",
      "22          23  0.843910     0.889093        0.803298        0.77000\n",
      "23          24  0.842535     0.889093        0.800919        0.76750\n"
     ]
    }
   ],
   "source": [
    "results = []\n",
    "\n",
    "for n_features in range(1, X_train.shape[1] + 1): \n",
    "    pipeline = Pipeline([ \n",
    "        ('scaler', StandardScaler()),\n",
    "        ('rfe', RFE(estimator=SVC(kernel='linear',random_state=42), n_features_to_select=n_features)),  \n",
    "        ('model', SVC(kernel='linear',random_state=42))  \n",
    "    ])\n",
    "\n",
    "    cv_results = cross_validate(\n",
    "        estimator=pipeline,\n",
    "        X=X_train,  \n",
    "        y=y_train,\n",
    "        scoring=scoring,\n",
    "        cv=cv,\n",
    "        return_train_score=False,\n",
    "        n_jobs=-1\n",
    "    )\n",
    "\n",
    "    f1_mean = cv_results['test_f1'].mean()\n",
    "    recall_mean = cv_results['test_recall'].mean()\n",
    "    precision_mean = cv_results['test_precision'].mean()\n",
    "    accuracy_mean = cv_results['test_accuracy'].mean()\n",
    "\n",
    "    results.append({\n",
    "        'n_features': n_features,\n",
    "        'f1_mean': f1_mean,\n",
    "        'recall_mean': recall_mean,\n",
    "        'precision_mean': precision_mean,\n",
    "        'accuracy_mean': accuracy_mean\n",
    "    })\n",
    "\n",
    "results_df = pd.DataFrame(results)\n",
    "print(results_df)"
   ]
  },
  {
   "cell_type": "markdown",
   "metadata": {},
   "source": [
    "The optimal number of features for the model is 23."
   ]
  },
  {
   "cell_type": "markdown",
   "metadata": {},
   "source": [
    "<h3>4.5. Hyperparameter tuning "
   ]
  },
  {
   "cell_type": "code",
   "execution_count": 273,
   "metadata": {},
   "outputs": [
    {
     "name": "stdout",
     "output_type": "stream",
     "text": [
      "Fitting 5 folds for each of 32 candidates, totalling 160 fits\n",
      "\n",
      "Best Parameters: {'model__C': 10, 'model__gamma': 1, 'model__kernel': 'linear'}\n",
      "Mean CV F1-Score: 0.8445\n",
      "Mean CV Recall: 0.8873\n",
      "Mean CV Precision: 0.8059\n",
      "Mean CV Accuracy: 0.7712\n",
      "\n",
      "Test Set Metrics:\n",
      "Test F1-Score: 0.8428\n",
      "Test Recall: 0.8936\n",
      "Test Precision: 0.7975\n",
      "Test Accuracy: 0.7650\n"
     ]
    }
   ],
   "source": [
    "param_grid = {\n",
    "    'model__C': [0.1, 1, 10, 100],\n",
    "    'model__gamma': [1, 0.1, 0.01, 0.001],\n",
    "    'model__kernel': ['linear', 'rbf']\n",
    "}\n",
    "\n",
    "model = SVC(random_state=42, kernel='linear')\n",
    "\n",
    "n_features_to_select = 23\n",
    "\n",
    "pipeline = Pipeline([\n",
    "    ('rfe', RFE(estimator=model, n_features_to_select=n_features_to_select)),\n",
    "    ('model', model)\n",
    "])\n",
    "\n",
    "scoring = {\n",
    "    'f1': 'f1',\n",
    "    'recall': 'recall',\n",
    "    'precision': 'precision',\n",
    "    'accuracy': 'accuracy'\n",
    "}\n",
    "\n",
    "grid_search = GridSearchCV(\n",
    "    estimator=pipeline,\n",
    "    param_grid=param_grid,\n",
    "    scoring=scoring,\n",
    "    refit='f1',\n",
    "    cv=cv,\n",
    "    n_jobs=-1,  \n",
    "    verbose=2    \n",
    ")\n",
    "\n",
    "grid_search.fit(X_train, y_train)\n",
    "\n",
    "best_params = grid_search.best_params_\n",
    "best_f1_cv = grid_search.best_score_\n",
    "best_pipeline = grid_search.best_estimator_\n",
    "\n",
    "mean_recall_cv = grid_search.cv_results_['mean_test_recall'][grid_search.best_index_]\n",
    "mean_precision_cv = grid_search.cv_results_['mean_test_precision'][grid_search.best_index_]\n",
    "mean_accuracy_cv = grid_search.cv_results_['mean_test_accuracy'][grid_search.best_index_]\n",
    "\n",
    "y_pred_test = best_pipeline.predict(X_test) \n",
    "\n",
    "test_f1 = f1_score(y_test, y_pred_test)\n",
    "test_recall = recall_score(y_test, y_pred_test)\n",
    "test_precision = precision_score(y_test, y_pred_test)\n",
    "test_accuracy = accuracy_score(y_test, y_pred_test)\n",
    "test_roc_auc = roc_auc_score(y_test, y_proba_test)\n",
    "\n",
    "print(f\"\\nBest Parameters: {best_params}\")\n",
    "print(f\"Mean CV F1-Score: {best_f1_cv:.4f}\")\n",
    "print(f\"Mean CV Recall: {mean_recall_cv:.4f}\")\n",
    "print(f\"Mean CV Precision: {mean_precision_cv:.4f}\")\n",
    "print(f\"Mean CV Accuracy: {mean_accuracy_cv:.4f}\")\n",
    "\n",
    "print(\"\\nTest Set Metrics:\")\n",
    "print(f\"Test F1-Score: {test_f1:.4f}\")\n",
    "print(f\"Test Recall: {test_recall:.4f}\")\n",
    "print(f\"Test Precision: {test_precision:.4f}\")\n",
    "print(f\"Test Accuracy: {test_accuracy:.4f}\")"
   ]
  },
  {
   "cell_type": "markdown",
   "metadata": {},
   "source": [
    "After tuning, this is the best performance the model has achieved."
   ]
  },
  {
   "cell_type": "markdown",
   "metadata": {},
   "source": [
    "<h2>5. LightGBM"
   ]
  },
  {
   "cell_type": "markdown",
   "metadata": {},
   "source": [
    "<h3>5.1 Baseline model"
   ]
  },
  {
   "cell_type": "code",
   "execution_count": 274,
   "metadata": {},
   "outputs": [
    {
     "name": "stdout",
     "output_type": "stream",
     "text": [
      "Mean CV F1-Score: 0.8377\n",
      "Mean CV Recall: 0.8819\n",
      "Mean CV Precision: 0.7980\n",
      "Mean CV Accuracy: 0.7612\n"
     ]
    }
   ],
   "source": [
    "model = LGBMClassifier(random_state=42, verbosity=-1)\n",
    "\n",
    "scoring = ['f1', 'recall', 'precision', 'accuracy']\n",
    "\n",
    "cv_results = cross_validate(\n",
    "    estimator=model,\n",
    "    X=X_train,\n",
    "    y=y_train,\n",
    "    scoring=scoring,\n",
    "    cv=cv,  \n",
    "    return_train_score=False,\n",
    "    n_jobs=-1  \n",
    ")\n",
    "\n",
    "mean_f1_cv = np.mean(cv_results['test_f1'])\n",
    "mean_recall_cv = np.mean(cv_results['test_recall'])\n",
    "mean_precision_cv = np.mean(cv_results['test_precision'])\n",
    "mean_accuracy_cv = np.mean(cv_results['test_accuracy'])\n",
    "\n",
    "print(f\"Mean CV F1-Score: {mean_f1_cv:.4f}\")\n",
    "print(f\"Mean CV Recall: {mean_recall_cv:.4f}\")\n",
    "print(f\"Mean CV Precision: {mean_precision_cv:.4f}\")\n",
    "print(f\"Mean CV Accuracy: {mean_accuracy_cv:.4f}\")"
   ]
  },
  {
   "cell_type": "markdown",
   "metadata": {},
   "source": [
    "<h3>5.2. Class weight = 'balanced'"
   ]
  },
  {
   "cell_type": "code",
   "execution_count": 275,
   "metadata": {},
   "outputs": [
    {
     "name": "stdout",
     "output_type": "stream",
     "text": [
      "Mean CV F1-Score: 0.8060\n",
      "Mean CV Recall: 0.8104\n",
      "Mean CV Precision: 0.8026\n",
      "Mean CV Accuracy: 0.7275\n"
     ]
    }
   ],
   "source": [
    "model = LGBMClassifier(random_state=42, verbosity=-1, class_weight='balanced')\n",
    "\n",
    "scoring = ['f1', 'recall', 'precision', 'accuracy']\n",
    "\n",
    "cv_results = cross_validate(\n",
    "    estimator=model,\n",
    "    X=X_train,\n",
    "    y=y_train,\n",
    "    scoring=scoring,\n",
    "    cv=cv,  \n",
    "    return_train_score=False,\n",
    "    n_jobs=-1  \n",
    ")\n",
    "\n",
    "mean_f1_cv = np.mean(cv_results['test_f1'])\n",
    "mean_recall_cv = np.mean(cv_results['test_recall'])\n",
    "mean_precision_cv = np.mean(cv_results['test_precision'])\n",
    "mean_accuracy_cv = np.mean(cv_results['test_accuracy'])\n",
    "\n",
    "print(f\"Mean CV F1-Score: {mean_f1_cv:.4f}\")\n",
    "print(f\"Mean CV Recall: {mean_recall_cv:.4f}\")\n",
    "print(f\"Mean CV Precision: {mean_precision_cv:.4f}\")\n",
    "print(f\"Mean CV Accuracy: {mean_accuracy_cv:.4f}\")"
   ]
  },
  {
   "cell_type": "markdown",
   "metadata": {},
   "source": [
    "<h3>5.2. Feature selection "
   ]
  },
  {
   "cell_type": "markdown",
   "metadata": {},
   "source": [
    "- Like other tree-based models, they generally do not require feature selection as a strict prerequisite. However, applying feature selection is acceptable if it leads to improved performance.\n",
    "- Since the baseline model provides the best results, it will be chosen for further optimization.\n",
    "- The optimize number of features is 15."
   ]
  },
  {
   "cell_type": "code",
   "execution_count": 276,
   "metadata": {},
   "outputs": [
    {
     "name": "stdout",
     "output_type": "stream",
     "text": [
      "Number of Features: 15\n",
      "Mean CV F1-Score: 0.8384\n",
      "Mean CV Recall: 0.8784\n",
      "Mean CV Precision: 0.8026\n",
      "Mean CV Accuracy: 0.7637\n"
     ]
    }
   ],
   "source": [
    "model = LGBMClassifier(random_state=42, verbosity=-1)\n",
    "\n",
    "n_features_to_select = 15\n",
    "rfe = RFE(estimator=model, n_features_to_select=n_features_to_select)\n",
    "\n",
    "X_train_rfe = rfe.fit_transform(X_train, y_train)\n",
    "\n",
    "scoring = ['f1', 'recall', 'precision', 'accuracy']\n",
    "\n",
    "cv_results = cross_validate(\n",
    "    estimator=model,\n",
    "    X=X_train_rfe,\n",
    "    y=y_train,\n",
    "    scoring=scoring,\n",
    "    cv=5,\n",
    "    return_train_score=False,\n",
    "    n_jobs=-1  \n",
    ")\n",
    "\n",
    "mean_f1_cv = np.mean(cv_results['test_f1'])\n",
    "mean_recall_cv = np.mean(cv_results['test_recall'])\n",
    "mean_precision_cv = np.mean(cv_results['test_precision'])\n",
    "mean_accuracy_cv = np.mean(cv_results['test_accuracy'])\n",
    "\n",
    "print(f\"Number of Features: {n_features_to_select}\")\n",
    "print(f\"Mean CV F1-Score: {mean_f1_cv:.4f}\")\n",
    "print(f\"Mean CV Recall: {mean_recall_cv:.4f}\")\n",
    "print(f\"Mean CV Precision: {mean_precision_cv:.4f}\")\n",
    "print(f\"Mean CV Accuracy: {mean_accuracy_cv:.4f}\")"
   ]
  },
  {
   "cell_type": "markdown",
   "metadata": {},
   "source": [
    "<h3> 5.3. Hyperparameter tuning "
   ]
  },
  {
   "cell_type": "code",
   "execution_count": 277,
   "metadata": {},
   "outputs": [
    {
     "name": "stdout",
     "output_type": "stream",
     "text": [
      "Fitting 5 folds for each of 243 candidates, totalling 1215 fits\n",
      "Best Parameters: {'model__learning_rate': 0.01, 'model__max_depth': 7, 'model__min_child_samples': 20, 'model__n_estimators': 200, 'model__num_leaves': 31}\n",
      "Mean CV F1-Score: 0.8439\n",
      "Mean CV Recall: 0.9142\n",
      "Mean CV Precision: 0.7842\n",
      "Mean CV Accuracy: 0.7637\n",
      "Test F1-Score: 0.8590\n",
      "Test Recall: 0.9291\n",
      "Test Precision: 0.7988\n",
      "Test Accuracy: 0.7850\n"
     ]
    }
   ],
   "source": [
    "param_grid = {\n",
    "    'model__n_estimators': [50, 100, 200],\n",
    "    'model__learning_rate': [0.01, 0.1, 0.3],                                                                                                                       \n",
    "    'model__max_depth': [3, 5, 7],\n",
    "    'model__num_leaves': [31, 50, 100],\n",
    "    'model__min_child_samples': [20, 30, 50]\n",
    "}\n",
    "\n",
    "pipeline = Pipeline([\n",
    "    ('rfe', RFE(estimator=LGBMClassifier(random_state=42, verbosity=-1), n_features_to_select=15)),\n",
    "    ('model', LGBMClassifier(random_state=42, verbosity=-1))\n",
    "])\n",
    "\n",
    "grid_search = GridSearchCV(\n",
    "    estimator=pipeline,\n",
    "    param_grid=param_grid,\n",
    "    scoring='f1',\n",
    "    cv=5,\n",
    "    n_jobs=-1,\n",
    "    verbose=2\n",
    ")\n",
    "\n",
    "grid_search.fit(X_train, y_train)\n",
    "\n",
    "best_params = grid_search.best_params_\n",
    "best_pipeline = grid_search.best_estimator_\n",
    "\n",
    "scoring = ['f1', 'recall', 'precision', 'accuracy']\n",
    "cv_results = cross_validate(\n",
    "    estimator=best_pipeline,\n",
    "    X=X_train,\n",
    "    y=y_train,\n",
    "    scoring=scoring,\n",
    "    cv=5,\n",
    "    return_train_score=False,\n",
    "    n_jobs=-1\n",
    ")\n",
    "\n",
    "mean_f1_cv = np.mean(cv_results['test_f1'])\n",
    "mean_recall_cv = np.mean(cv_results['test_recall'])\n",
    "mean_precision_cv = np.mean(cv_results['test_precision'])\n",
    "mean_accuracy_cv = np.mean(cv_results['test_accuracy'])\n",
    "\n",
    "X_test_rfe = best_pipeline.named_steps['rfe'].transform(X_test)\n",
    "\n",
    "y_pred_test = best_pipeline.predict(X_test)\n",
    "\n",
    "test_f1 = f1_score(y_test, y_pred_test)\n",
    "test_recall = recall_score(y_test, y_pred_test)\n",
    "test_precision = precision_score(y_test, y_pred_test)\n",
    "test_accuracy = accuracy_score(y_test, y_pred_test)\n",
    "test_roc_auc = roc_auc_score(y_test, y_proba_test)\n",
    "\n",
    "print(f\"Best Parameters: {best_params}\")\n",
    "print(f\"Mean CV F1-Score: {mean_f1_cv:.4f}\")\n",
    "print(f\"Mean CV Recall: {mean_recall_cv:.4f}\")\n",
    "print(f\"Mean CV Precision: {mean_precision_cv:.4f}\")\n",
    "print(f\"Mean CV Accuracy: {mean_accuracy_cv:.4f}\")\n",
    "print(f\"Test F1-Score: {test_f1:.4f}\")\n",
    "print(f\"Test Recall: {test_recall:.4f}\")\n",
    "print(f\"Test Precision: {test_precision:.4f}\")\n",
    "print(f\"Test Accuracy: {test_accuracy:.4f}\")"
   ]
  },
  {
   "cell_type": "markdown",
   "metadata": {},
   "source": [
    "After tuning, this is the best performance the model has achieved."
   ]
  },
  {
   "cell_type": "markdown",
   "metadata": {},
   "source": [
    "<h1>IV. Conclusion"
   ]
  },
  {
   "cell_type": "code",
   "execution_count": 278,
   "metadata": {},
   "outputs": [
    {
     "data": {
      "text/html": [
       "<div>\n",
       "<style scoped>\n",
       "    .dataframe tbody tr th:only-of-type {\n",
       "        vertical-align: middle;\n",
       "    }\n",
       "\n",
       "    .dataframe tbody tr th {\n",
       "        vertical-align: top;\n",
       "    }\n",
       "\n",
       "    .dataframe thead th {\n",
       "        text-align: right;\n",
       "    }\n",
       "</style>\n",
       "<table border=\"1\" class=\"dataframe\">\n",
       "  <thead>\n",
       "    <tr style=\"text-align: right;\">\n",
       "      <th></th>\n",
       "      <th>Model</th>\n",
       "      <th>Mean CV F1-Score</th>\n",
       "      <th>Mean CV Recall</th>\n",
       "      <th>Mean CV Precision</th>\n",
       "      <th>Mean CV Accuracy</th>\n",
       "      <th>Test F1</th>\n",
       "    </tr>\n",
       "  </thead>\n",
       "  <tbody>\n",
       "    <tr>\n",
       "      <th>0</th>\n",
       "      <td>Logistic Regression</td>\n",
       "      <td>0.617100</td>\n",
       "      <td>0.730500</td>\n",
       "      <td>0.535200</td>\n",
       "      <td>0.72750</td>\n",
       "      <td>0.6197</td>\n",
       "    </tr>\n",
       "    <tr>\n",
       "      <th>1</th>\n",
       "      <td>Decision Tree</td>\n",
       "      <td>0.793596</td>\n",
       "      <td>0.808591</td>\n",
       "      <td>0.779482</td>\n",
       "      <td>0.70625</td>\n",
       "      <td>0.7944</td>\n",
       "    </tr>\n",
       "    <tr>\n",
       "      <th>2</th>\n",
       "      <td>Random Forest</td>\n",
       "      <td>0.851800</td>\n",
       "      <td>0.932000</td>\n",
       "      <td>0.784700</td>\n",
       "      <td>0.77370</td>\n",
       "      <td>0.8581</td>\n",
       "    </tr>\n",
       "    <tr>\n",
       "      <th>3</th>\n",
       "      <td>SVM</td>\n",
       "      <td>0.844500</td>\n",
       "      <td>0.887300</td>\n",
       "      <td>0.805900</td>\n",
       "      <td>0.77120</td>\n",
       "      <td>0.8428</td>\n",
       "    </tr>\n",
       "    <tr>\n",
       "      <th>4</th>\n",
       "      <td>LightGBM</td>\n",
       "      <td>0.843900</td>\n",
       "      <td>0.914200</td>\n",
       "      <td>0.784200</td>\n",
       "      <td>0.76370</td>\n",
       "      <td>0.8590</td>\n",
       "    </tr>\n",
       "  </tbody>\n",
       "</table>\n",
       "</div>"
      ],
      "text/plain": [
       "                 Model  Mean CV F1-Score  Mean CV Recall  Mean CV Precision  \\\n",
       "0  Logistic Regression          0.617100        0.730500           0.535200   \n",
       "1        Decision Tree          0.793596        0.808591           0.779482   \n",
       "2        Random Forest          0.851800        0.932000           0.784700   \n",
       "3                  SVM          0.844500        0.887300           0.805900   \n",
       "4             LightGBM          0.843900        0.914200           0.784200   \n",
       "\n",
       "   Mean CV Accuracy  Test F1  \n",
       "0           0.72750   0.6197  \n",
       "1           0.70625   0.7944  \n",
       "2           0.77370   0.8581  \n",
       "3           0.77120   0.8428  \n",
       "4           0.76370   0.8590  "
      ]
     },
     "execution_count": 278,
     "metadata": {},
     "output_type": "execute_result"
    }
   ],
   "source": [
    "data = {\n",
    "    'Model': ['Logistic Regression', 'Decision Tree', 'Random Forest', 'SVM', 'LightGBM'],\n",
    "    'Mean CV F1-Score': [0.6171, 0.793596, 0.8518, 0.8445, 0.8439],\n",
    "    'Mean CV Recall': [0.7305, 0.808591, 0.932, 0.8873, 0.9142],\n",
    "    'Mean CV Precision': [0.5352, 0.779482, 0.7847, 0.8059, 0.7842],\n",
    "    'Mean CV Accuracy': [0.7275, 0.70625, 0.7737, 0.7712, 0.7637],\n",
    "    'Test F1': [0.6197, 0.7944, 0.8581, 0.8428, 0.859]\n",
    "}\n",
    "\n",
    "df = pd.DataFrame(data)\n",
    "\n",
    "df"
   ]
  },
  {
   "cell_type": "markdown",
   "metadata": {},
   "source": [
    "Among the five models, Random Forest achieves the highest mean F1 score and Recall during cross-validation, demonstrating a stronger ability to correctly identify fraudulent transactions. The difference between the cross-validation F1 score and the test F1 score is less than 0.1%, indicating that the model is generalized exceptionally well."
   ]
  },
  {
   "cell_type": "markdown",
   "metadata": {},
   "source": [
    "The comparison of the four evaluation metrics—F1 Score, Accuracy, Recall, and Precision—is detailed in the daily report."
   ]
  }
 ],
 "metadata": {
  "kernelspec": {
   "display_name": "Python 3",
   "language": "python",
   "name": "python3"
  },
  "language_info": {
   "codemirror_mode": {
    "name": "ipython",
    "version": 3
   },
   "file_extension": ".py",
   "mimetype": "text/x-python",
   "name": "python",
   "nbconvert_exporter": "python",
   "pygments_lexer": "ipython3",
   "version": "3.11.1"
  }
 },
 "nbformat": 4,
 "nbformat_minor": 2
}
