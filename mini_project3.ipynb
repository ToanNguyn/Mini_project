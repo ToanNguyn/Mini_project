{
 "cells": [
  {
   "cell_type": "markdown",
   "metadata": {},
   "source": [
    "<h1>I. Import library and load dataset"
   ]
  },
  {
   "cell_type": "code",
   "execution_count": 2,
   "metadata": {},
   "outputs": [],
   "source": [
    "import numpy as np \n",
    "\n",
    "import torch.nn as nn\n",
    "from torch import optim\n",
    "import torch.nn.functional as F\n",
    "import torch\n",
    "from torch.utils.data import DataLoader\n",
    "from torchvision import datasets, transforms, models\n",
    "import torchvision.transforms as transforms\n",
    "from torch.optim.lr_scheduler import StepLR\n",
    "from torchvision.models import resnet50\n",
    "\n",
    "from sklearn.metrics import accuracy_score\n",
    "\n",
    "import matplotlib.pyplot as plt \n",
    "\n",
    "import optuna\n",
    "\n",
    "import warnings\n",
    "warnings.filterwarnings('ignore')"
   ]
  },
  {
   "cell_type": "markdown",
   "metadata": {},
   "source": [
    "This way of tranforming data credit to notebook [CIFAR10 Custom+Resnet CNN Pytorch (> 97% Acc)](https://www.kaggle.com/code/ayushnitb/cifar10-custom-resnet-cnn-pytorch-97-acc#1.-Data-Preparation) in Kaggle. However, when using this transformation in all models (DNN, tuned DNN, CNN), there is a noted decrease in accuracy."
   ]
  },
  {
   "cell_type": "code",
   "execution_count": 2,
   "metadata": {},
   "outputs": [
    {
     "name": "stdout",
     "output_type": "stream",
     "text": [
      "Files already downloaded and verified\n",
      "Files already downloaded and verified\n"
     ]
    }
   ],
   "source": [
    "IMAGE_SIZE = 32\n",
    "\n",
    "mean, std = [0.4914, 0.4822, 0.4465], [0.247, 0.243, 0.261]\n",
    "\n",
    "transform = transforms.Compose([transforms.Resize((IMAGE_SIZE, IMAGE_SIZE)), \n",
    "                                     transforms.RandomRotation(20),\n",
    "                                     transforms.RandomHorizontalFlip(0.1),\n",
    "                                     transforms.ColorJitter(brightness = 0.1,\n",
    "                                                            contrast = 0.1, \n",
    "                                                            saturation = 0.1), \n",
    "                                     transforms.RandomAdjustSharpness(sharpness_factor = 2,\n",
    "                                                                      p = 0.1),\n",
    "                                     transforms.ToTensor(),\n",
    "                                     transforms.Normalize(mean, std), \n",
    "                                     transforms.RandomErasing(p=0.75,scale=(0.02, 0.1),value=1.0, inplace=False)])\n",
    "\n",
    "\n",
    "composed_test = transforms.Compose([transforms.Resize((IMAGE_SIZE,IMAGE_SIZE)),\n",
    "                                    transforms.ToTensor(),\n",
    "                                    transforms.Normalize(mean, std)])\n",
    "\n",
    "trainset = datasets.CIFAR10(root='./data', train=True, download=True, transform=transform)\n",
    "testset = datasets.CIFAR10(root='./data', train=False, download=True, transform=transform)\n",
    "\n",
    "trainloader = DataLoader(trainset, batch_size=128, shuffle=True)\n",
    "testloader = DataLoader(testset, batch_size=128, shuffle=False)\n",
    "\n",
    "train_labels = [label for _, label in trainset]"
   ]
  },
  {
   "cell_type": "markdown",
   "metadata": {},
   "source": [
    "In this case, a simple transformation is much better."
   ]
  },
  {
   "cell_type": "code",
   "execution_count": 3,
   "metadata": {},
   "outputs": [
    {
     "name": "stdout",
     "output_type": "stream",
     "text": [
      "Files already downloaded and verified\n",
      "Files already downloaded and verified\n",
      "Batch of images shape: torch.Size([128, 3, 32, 32])\n"
     ]
    }
   ],
   "source": [
    "mean, std = [0.4914, 0.4822, 0.4465], [0.2023, 0.1994, 0.2010]\n",
    "transform = transforms.Compose([\n",
    "    transforms.RandomHorizontalFlip(p=0.5),\n",
    "    transforms.ToTensor(),\n",
    "    transforms.Normalize(mean, std)  \n",
    "])\n",
    "\n",
    "trainset = datasets.CIFAR10(root='./data', train=True, download=True, transform=transform)\n",
    "testset = datasets.CIFAR10(root='./data', train=False, download=True, transform=transform)\n",
    "\n",
    "trainloader = DataLoader(trainset, batch_size=128, shuffle=True)\n",
    "testloader = DataLoader(testset, batch_size=128, shuffle=False)\n",
    "\n",
    "train_labels = [label for _, label in trainset]\n",
    "\n",
    "for images, labels in trainloader:\n",
    "    print(\"Batch of images shape:\", images.shape)\n",
    "    break "
   ]
  },
  {
   "cell_type": "markdown",
   "metadata": {},
   "source": [
    "<h1>II. EDA"
   ]
  },
  {
   "cell_type": "markdown",
   "metadata": {},
   "source": [
    "EDA part is referenced from notebook [CIFAR10 Custom+Resnet CNN Pytorch (> 97% Acc)](https://www.kaggle.com/code/ayushnitb/cifar10-custom-resnet-cnn-pytorch-97-acc#1.-Data-Preparation) on Kaggle.\n"
   ]
  },
  {
   "cell_type": "code",
   "execution_count": 4,
   "metadata": {},
   "outputs": [],
   "source": [
    "def show_data(img):\n",
    "    try:\n",
    "        plt.imshow(img[0])\n",
    "    except Exception as e:\n",
    "        print(e)\n",
    "    print(img[0].shape, img[0].permute(1,2,0).shape)\n",
    "    plt.imshow(img[0].permute(1,2,0))\n",
    "    plt.title('y = '+ str(img[1]))\n",
    "    plt.show()\n",
    "\n",
    "def im_convert(tensor):\n",
    "    img = tensor.cpu().clone().detach().numpy() \n",
    "    img = img.transpose(1, 2, 0)\n",
    "    img = img * np.array(tuple(mean)) + np.array(tuple(std))\n",
    "    img = img.clip(0, 1)\n",
    "    return img"
   ]
  },
  {
   "cell_type": "markdown",
   "metadata": {},
   "source": [
    "A picture in dataset should look like this:"
   ]
  },
  {
   "cell_type": "code",
   "execution_count": 5,
   "metadata": {},
   "outputs": [
    {
     "name": "stderr",
     "output_type": "stream",
     "text": [
      "Clipping input data to the valid range for imshow with RGB data ([0..1] for floats or [0..255] for integers).\n"
     ]
    },
    {
     "name": "stdout",
     "output_type": "stream",
     "text": [
      "Invalid shape (3, 32, 32) for image data\n",
      "torch.Size([3, 32, 32]) torch.Size([32, 32, 3])\n"
     ]
    },
    {
     "data": {
      "image/png": "[encoded data removed]",
      "text/plain": [
       "<Figure size 640x480 with 1 Axes>"
      ]
     },
     "metadata": {},
     "output_type": "display_data"
    }
   ],
   "source": [
    "show_data(trainset[8])"
   ]
  },
  {
   "cell_type": "markdown",
   "metadata": {},
   "source": [
    "Pictures of each classes should looks like this:"
   ]
  },
  {
   "cell_type": "code",
   "execution_count": 6,
   "metadata": {},
   "outputs": [
    {
     "data": {
      "image/png": "[encoded data removed]",
      "text/plain": [
       "<Figure size 2000x1000 with 10 Axes>"
      ]
     },
     "metadata": {},
     "output_type": "display_data"
    }
   ],
   "source": [
    "classes = ('airplane', \n",
    "           'automobile', \n",
    "           'bird',\n",
    "           'cat',\n",
    "           'deer',\n",
    "           'dog', \n",
    "           'frog', \n",
    "           'horse', \n",
    "           'ship',\n",
    "           'truck')\n",
    "\n",
    "data_iterable = iter(trainloader)  \n",
    "images, labels = next(data_iterable) \n",
    "fig = plt.figure(figsize=(20, 10)) \n",
    "\n",
    "for idx in np.arange(10):\n",
    "    ax = fig.add_subplot(2, 5, idx+1, xticks=[], yticks=[])\n",
    "\n",
    "    plt.imshow(im_convert(images[idx]))\n",
    "    ax.set_title(classes[labels[idx].item()])"
   ]
  },
  {
   "cell_type": "markdown",
   "metadata": {},
   "source": [
    "<h1> III. Model"
   ]
  },
  {
   "cell_type": "markdown",
   "metadata": {},
   "source": [
    "<h2>1. DNN"
   ]
  },
  {
   "cell_type": "code",
   "execution_count": 7,
   "metadata": {},
   "outputs": [
    {
     "name": "stdout",
     "output_type": "stream",
     "text": [
      "Epoch 1/10, Loss: 1.8683\n",
      "Epoch 2/10, Loss: 1.6673\n",
      "Epoch 3/10, Loss: 1.5963\n",
      "Epoch 4/10, Loss: 1.5463\n",
      "Epoch 5/10, Loss: 1.5089\n",
      "Epoch 6/10, Loss: 1.4826\n",
      "Epoch 7/10, Loss: 1.4582\n",
      "Epoch 8/10, Loss: 1.4339\n",
      "Epoch 9/10, Loss: 1.4162\n",
      "Epoch 10/10, Loss: 1.4012\n",
      "Test accuracy Score: 0.5179\n"
     ]
    }
   ],
   "source": [
    "class DNN(nn.Module):\n",
    "    def __init__(self):\n",
    "        super(DNN, self).__init__()\n",
    "\n",
    "        self.model = nn.Sequential(\n",
    "            nn.Flatten(),\n",
    "            nn.Linear(3*32*32, 128),\n",
    "            nn.ReLU(),\n",
    "            nn.Dropout(0.2),\n",
    "            nn.Linear(128, 256),\n",
    "            nn.ReLU(),\n",
    "            nn.Dropout(0.2),\n",
    "            nn.Linear(256, 512),\n",
    "            nn.ReLU(),\n",
    "            nn.Dropout(0.2),\n",
    "            nn.Linear(512, 10)\n",
    "        )\n",
    "\n",
    "    def forward(self, x):\n",
    "        return self.model(x)\n",
    "\n",
    "model = DNN()\n",
    "\n",
    "epochs = 10 \n",
    "criterion = nn.CrossEntropyLoss()\n",
    "optimizer = optim.Adam(params=model.parameters(), lr=0.0001)\n",
    "\n",
    "for i in range(epochs):\n",
    "    model.train()\n",
    "    running_loss = 0.0\n",
    "    for images, labels in trainloader:\n",
    "        optimizer.zero_grad()\n",
    "\n",
    "        outputs = model(images)\n",
    "        loss = criterion(outputs, labels)\n",
    "\n",
    "        loss.backward()\n",
    "        optimizer.step()\n",
    "\n",
    "\n",
    "        running_loss += loss.item()\n",
    "\n",
    "    print(f\"Epoch {i+1}/{epochs}, Loss: {running_loss / len(trainloader):.4f}\")\n",
    "\n",
    "model.eval()\n",
    "all_preds = []\n",
    "all_labels = []\n",
    "\n",
    "with torch.no_grad():\n",
    "    for images, labels in testloader:\n",
    "        outputs = model(images)\n",
    "        _, predict = torch.max( outputs,1)\n",
    "\n",
    "        all_preds.extend(predict.cpu().numpy())\n",
    "        all_labels.extend(labels.cpu().numpy())\n",
    "\n",
    "accuracy = accuracy_score(all_labels, all_preds) \n",
    "print(f\"Test accuracy Score: {accuracy:.4f}\")"
   ]
  },
  {
   "cell_type": "markdown",
   "metadata": {},
   "source": [
    "At first attempt with a simple three fully-connected layers DNN model, the accuracy score is low, at 0.5179."
   ]
  },
  {
   "cell_type": "markdown",
   "metadata": {},
   "source": [
    "<h2>2. CNN"
   ]
  },
  {
   "cell_type": "code",
   "execution_count": 8,
   "metadata": {},
   "outputs": [
    {
     "name": "stdout",
     "output_type": "stream",
     "text": [
      "Epoch 1/10, Loss: 1.4370\n",
      "Epoch 2/10, Loss: 1.1101\n",
      "Epoch 3/10, Loss: 0.9772\n",
      "Epoch 4/10, Loss: 0.8977\n",
      "Epoch 5/10, Loss: 0.8303\n",
      "Epoch 6/10, Loss: 0.7795\n",
      "Epoch 7/10, Loss: 0.7354\n",
      "Epoch 8/10, Loss: 0.6940\n",
      "Epoch 9/10, Loss: 0.6566\n",
      "Epoch 10/10, Loss: 0.6190\n",
      "Test Accuracy Score: 0.7252\n"
     ]
    }
   ],
   "source": [
    "class CNN(nn.Module):\n",
    "    def __init__(self):\n",
    "        super(CNN, self).__init__()\n",
    "        self.conv1 = nn.Conv2d(in_channels=3, out_channels=16, kernel_size=3, stride=1, padding=1)\n",
    "        self.pool = nn.MaxPool2d(kernel_size=2, stride=2, padding=0)\n",
    "        self.conv2 = nn.Conv2d(16, 32, kernel_size=3, stride=1, padding=1)\n",
    "        self.pool = nn.MaxPool2d(kernel_size=2, stride=2, padding=0)\n",
    "        self.fc1 = nn.Linear(32 * 8 * 8, 128)\n",
    "        self.fc2 = nn.Linear(128, 10)\n",
    "\n",
    "    def forward(self, x):\n",
    "        x = self.pool(F.relu(self.conv1(x)))\n",
    "        x = self.pool(F.relu(self.conv2(x)))    \n",
    "        x = x.view(-1, 32 * 8 * 8)  \n",
    "        x = F.relu(self.fc1(x))\n",
    "        x = self.fc2(x)\n",
    "\n",
    "        return x\n",
    "\n",
    "model = CNN()\n",
    "epochs = 10\n",
    "criterion = nn.CrossEntropyLoss()\n",
    "optimizer = optim.Adam(model.parameters(), lr=0.001)\n",
    "\n",
    "for i in range(epochs):\n",
    "    model.train()\n",
    "    running_loss = 0.0\n",
    "    for images, labels in trainloader:\n",
    "        optimizer.zero_grad()\n",
    "\n",
    "        outputs = model(images)\n",
    "        loss = criterion(outputs, labels)\n",
    "\n",
    "        loss.backward()\n",
    "        optimizer.step()\n",
    "\n",
    "\n",
    "        running_loss += loss.item()\n",
    "\n",
    "    print(f\"Epoch {i+1}/{epochs}, Loss: {running_loss / len(trainloader):.4f}\")\n",
    "\n",
    "model.eval()\n",
    "all_preds = []\n",
    "all_labels = []\n",
    "\n",
    "with torch.no_grad():\n",
    "    for images, labels in testloader:\n",
    "        outputs = model(images)\n",
    "        _, predict = torch.max( outputs,1)\n",
    "\n",
    "        all_preds.extend(predict.cpu().numpy())\n",
    "        all_labels.extend(labels.cpu().numpy())\n",
    "\n",
    "accuracy = accuracy_score(all_labels, all_preds) \n",
    "print(f\"Test Accuracy Score: {accuracy:.4f}\")"
   ]
  },
  {
   "cell_type": "markdown",
   "metadata": {},
   "source": [
    "By adding two more convolution layers and max-pooling layers, the accuracy increased to 0.7252. However, it is still considered a low accuracy score."
   ]
  },
  {
   "cell_type": "markdown",
   "metadata": {},
   "source": [
    "<h3>2.1. Hyperparameters tuning "
   ]
  },
  {
   "cell_type": "code",
   "execution_count": 9,
   "metadata": {},
   "outputs": [
    {
     "name": "stderr",
     "output_type": "stream",
     "text": [
      "[I 2024-12-25 16:12:16,037] A new study created in memory with name: no-name-110654c1-c334-46a6-a0fd-ff7b75e93e9a\n",
      "[I 2024-12-25 16:17:10,111] Trial 0 finished with value: 0.7153 and parameters: {'weight_decay': 0.0006455633708728618, 'learning_rate': 0.0028101218214445596, 'batch_size': 64, 'dropout_rate': 0.10862603365529583}. Best is trial 0 with value: 0.7153.\n",
      "[I 2024-12-25 16:21:52,409] Trial 1 finished with value: 0.7032 and parameters: {'weight_decay': 0.0009759708652930885, 'learning_rate': 0.0019898298591795554, 'batch_size': 112, 'dropout_rate': 0.48456241790231613}. Best is trial 0 with value: 0.7153.\n",
      "[I 2024-12-25 16:28:32,756] Trial 2 finished with value: 0.6996 and parameters: {'weight_decay': 1.6835505701204708e-05, 'learning_rate': 0.0001899608773789341, 'batch_size': 16, 'dropout_rate': 0.40934380931251113}. Best is trial 0 with value: 0.7153.\n",
      "[I 2024-12-25 16:33:15,918] Trial 3 finished with value: 0.7204 and parameters: {'weight_decay': 0.0009171383365606337, 'learning_rate': 0.0019703720640850135, 'batch_size': 112, 'dropout_rate': 0.1627134799404541}. Best is trial 3 with value: 0.7204.\n",
      "[I 2024-12-25 16:38:00,946] Trial 4 finished with value: 0.7076 and parameters: {'weight_decay': 0.0009794868906672952, 'learning_rate': 0.00070455861135701, 'batch_size': 112, 'dropout_rate': 0.2808484537304835}. Best is trial 3 with value: 0.7204.\n",
      "[I 2024-12-25 16:42:42,742] Trial 5 finished with value: 0.6941 and parameters: {'weight_decay': 0.00032604331494399177, 'learning_rate': 0.003200899598691387, 'batch_size': 112, 'dropout_rate': 0.4522264700789218}. Best is trial 3 with value: 0.7204.\n",
      "[I 2024-12-25 16:47:24,663] Trial 6 finished with value: 0.7123 and parameters: {'weight_decay': 0.00010378837007644983, 'learning_rate': 0.001997715898423153, 'batch_size': 128, 'dropout_rate': 0.3231784303130243}. Best is trial 3 with value: 0.7204.\n",
      "[I 2024-12-25 16:52:13,808] Trial 7 finished with value: 0.7111 and parameters: {'weight_decay': 0.0001787722227809771, 'learning_rate': 0.0005638491085863538, 'batch_size': 80, 'dropout_rate': 0.16381842333298757}. Best is trial 3 with value: 0.7204.\n",
      "[I 2024-12-25 16:56:56,984] Trial 8 finished with value: 0.6347 and parameters: {'weight_decay': 0.00036122968967270975, 'learning_rate': 0.00015608231570613277, 'batch_size': 128, 'dropout_rate': 0.3426784345816061}. Best is trial 3 with value: 0.7204.\n",
      "[I 2024-12-25 17:03:38,528] Trial 9 finished with value: 0.7192 and parameters: {'weight_decay': 3.879485221509231e-05, 'learning_rate': 0.00024395941797445745, 'batch_size': 16, 'dropout_rate': 0.10723854784887009}. Best is trial 3 with value: 0.7204.\n",
      "[I 2024-12-25 17:08:24,336] Trial 10 finished with value: 0.5537 and parameters: {'weight_decay': 1.0337563964357405e-05, 'learning_rate': 0.009324002748241822, 'batch_size': 80, 'dropout_rate': 0.22606805059813273}. Best is trial 3 with value: 0.7204.\n",
      "[I 2024-12-25 17:14:51,525] Trial 11 finished with value: 0.7264 and parameters: {'weight_decay': 3.644057597858697e-05, 'learning_rate': 0.0003603464364145865, 'batch_size': 16, 'dropout_rate': 0.10123579236747801}. Best is trial 11 with value: 0.7264.\n",
      "[I 2024-12-25 17:19:59,840] Trial 12 finished with value: 0.7121 and parameters: {'weight_decay': 3.9146923107328404e-05, 'learning_rate': 0.0003450670299895384, 'batch_size': 48, 'dropout_rate': 0.1929647093623295}. Best is trial 11 with value: 0.7264.\n",
      "[I 2024-12-25 17:25:07,824] Trial 13 finished with value: 0.7078 and parameters: {'weight_decay': 4.377561282755292e-05, 'learning_rate': 0.001330662181565067, 'batch_size': 48, 'dropout_rate': 0.24171531065072374}. Best is trial 11 with value: 0.7264.\n",
      "[I 2024-12-25 17:30:37,881] Trial 14 finished with value: 0.5509 and parameters: {'weight_decay': 6.152965818069583e-05, 'learning_rate': 0.005685391141500534, 'batch_size': 32, 'dropout_rate': 0.15577634883001865}. Best is trial 11 with value: 0.7264.\n",
      "[I 2024-12-25 17:35:21,907] Trial 15 finished with value: 0.7075 and parameters: {'weight_decay': 2.0680538368842804e-05, 'learning_rate': 0.0004687458298498989, 'batch_size': 96, 'dropout_rate': 0.10183435579901703}. Best is trial 11 with value: 0.7264.\n",
      "[I 2024-12-25 17:40:35,155] Trial 16 finished with value: 0.7291 and parameters: {'weight_decay': 0.00012204587477911292, 'learning_rate': 0.0010125146322888879, 'batch_size': 48, 'dropout_rate': 0.15146168048396721}. Best is trial 16 with value: 0.7291.\n",
      "[I 2024-12-25 17:46:05,367] Trial 17 finished with value: 0.7252 and parameters: {'weight_decay': 0.00011095743262124131, 'learning_rate': 0.0008160653215967475, 'batch_size': 32, 'dropout_rate': 0.25989357125244633}. Best is trial 16 with value: 0.7291.\n",
      "[I 2024-12-25 17:51:41,126] Trial 18 finished with value: 0.6614 and parameters: {'weight_decay': 0.00018880499346757098, 'learning_rate': 0.00010294002292284334, 'batch_size': 32, 'dropout_rate': 0.37282045317419776}. Best is trial 16 with value: 0.7291.\n",
      "[I 2024-12-25 17:56:54,624] Trial 19 finished with value: 0.7338 and parameters: {'weight_decay': 6.696242935448574e-05, 'learning_rate': 0.0010884907829771342, 'batch_size': 48, 'dropout_rate': 0.20789850398554383}. Best is trial 19 with value: 0.7338.\n"
     ]
    },
    {
     "name": "stdout",
     "output_type": "stream",
     "text": [
      "Best trial:\n",
      "Accuracy: 0.7338\n",
      "Hyperparameters:\n",
      "    weight_decay: 6.696242935448574e-05\n",
      "    learning_rate: 0.0010884907829771342\n",
      "    batch_size: 48\n",
      "    dropout_rate: 0.20789850398554383\n"
     ]
    }
   ],
   "source": [
    "class CNN(nn.Module):\n",
    "    def __init__(self, dropout_rate):\n",
    "        super(CNN, self).__init__()\n",
    "        self.conv1 = nn.Conv2d(in_channels=3, out_channels=16, kernel_size=3, stride=1, padding=1)\n",
    "        self.pool = nn.MaxPool2d(kernel_size=2, stride=2, padding=0)\n",
    "        self.conv2 = nn.Conv2d(16, 32, kernel_size=3, stride=1, padding=1)\n",
    "        self.pool = nn.MaxPool2d(kernel_size=2, stride=2, padding=0)\n",
    "        self.fc1 = nn.Linear(32 * 8 * 8, 128)\n",
    "        self.dropout = nn.Dropout(p=dropout_rate)\n",
    "        self.fc2 = nn.Linear(128, 10)\n",
    "\n",
    "    def forward(self, x):\n",
    "        x = self.pool(F.relu(self.conv1(x)))\n",
    "        x = self.pool(F.relu(self.conv2(x)))\n",
    "        x = x.view(-1, 32 * 8 * 8)\n",
    "        x = F.relu(self.fc1(x))\n",
    "        x = self.dropout(x) \n",
    "        x = self.fc2(x)\n",
    "        return x\n",
    "\n",
    "def objective(trial):\n",
    "    weight_decay = trial.suggest_loguniform(\"weight_decay\", 1e-5, 1e-3)\n",
    "    learning_rate = trial.suggest_loguniform(\"learning_rate\", 1e-4, 1e-2)\n",
    "    batch_size = trial.suggest_int(\"batch_size\", 16, 128, step=16)\n",
    "    dropout_rate = trial.suggest_uniform(\"dropout_rate\", 0.1, 0.5)\n",
    "    \n",
    "    trainloader = DataLoader(trainset, batch_size=batch_size, shuffle=True)\n",
    "    testloader = DataLoader(testset, batch_size=64, shuffle=False)\n",
    "\n",
    "    device = 'cuda' if torch.cuda.is_available() else 'cpu'\n",
    "    model = CNN(dropout_rate).to(device)\n",
    "    \n",
    "    criterion = nn.CrossEntropyLoss()\n",
    "    optimizer = optim.Adam(model.parameters(), lr=learning_rate, weight_decay=weight_decay)\n",
    "\n",
    "    for epoch in range(10): \n",
    "        model.train()\n",
    "        for images, labels in trainloader:\n",
    "            images, labels = images.to(device), labels.to(device)\n",
    "            optimizer.zero_grad()\n",
    "            outputs = model(images)\n",
    "            loss = criterion(outputs, labels)\n",
    "            loss.backward()\n",
    "            optimizer.step()\n",
    "\n",
    "    model.eval()\n",
    "    all_preds = []\n",
    "    all_labels = []\n",
    "    with torch.no_grad():\n",
    "        for images, labels in testloader:\n",
    "            images, labels = images.to(device), labels.to(device)\n",
    "            outputs = model(images)\n",
    "            _, predicted = torch.max(outputs, 1)\n",
    "            all_preds.extend(predicted.cpu().numpy())\n",
    "            all_labels.extend(labels.cpu().numpy())\n",
    "\n",
    "    accuracy = accuracy_score(all_labels, all_preds)\n",
    "    return accuracy\n",
    "\n",
    "study = optuna.create_study(direction=\"maximize\")\n",
    "study.optimize(objective, n_trials=20)\n",
    "\n",
    "print(\"Best trial:\")\n",
    "trial = study.best_trial\n",
    "print(f\"Accuracy: {trial.value:.4f}\")\n",
    "print(\"Hyperparameters:\")\n",
    "for key, value in trial.params.items():\n",
    "    print(f\"    {key}: {value}\")"
   ]
  },
  {
   "cell_type": "markdown",
   "metadata": {},
   "source": [
    "Accuracy: 0.7338\n",
    "Hyperparameters:\n",
    "    weight_decay: 6.696242935448574e-05\n",
    "    learning_rate: 0.0010884907829771342\n",
    "    batch_size: 48\n",
    "    dropout_rate: 0.20789850398554383"
   ]
  },
  {
   "cell_type": "markdown",
   "metadata": {},
   "source": [
    "After tuning for nine hyperparameters—learning rate, batch size, dropout rate, number of layers, number of filters, kernel sizes, pool size, number of neurons, and weight decay—the best hyperparameters were fitted to the models. This resulted in a significant improvement, with the accuracy score increasing to 0.7338."
   ]
  },
  {
   "cell_type": "markdown",
   "metadata": {},
   "source": [
    "Optuna is the hyperparameter optimization framework used to find the best hyperparameters."
   ]
  },
  {
   "cell_type": "markdown",
   "metadata": {},
   "source": [
    "<h3>2.2. Fine tuning"
   ]
  },
  {
   "cell_type": "code",
   "execution_count": null,
   "metadata": {},
   "outputs": [
    {
     "name": "stdout",
     "output_type": "stream",
     "text": [
      "Files already downloaded and verified\n",
      "Files already downloaded and verified\n",
      "Epoch 1/10, Loss: 0.7974\n"
     ]
    }
   ],
   "source": [
    "transform = transforms.Compose([\n",
    "    transforms.Resize((224, 224)),\n",
    "    transforms.RandomHorizontalFlip(p=0.5),\n",
    "    transforms.ToTensor(),\n",
    "    transforms.Normalize([0.4914, 0.4822, 0.4465], [0.2023, 0.1994, 0.2010])\n",
    "])\n",
    "\n",
    "trainset = datasets.CIFAR10(root='./data', train=True, download=True, transform=transform)\n",
    "testset = datasets.CIFAR10(root='./data', train=False, download=True, transform=transform)\n",
    "\n",
    "trainloader = DataLoader(trainset, batch_size=64, shuffle=True)\n",
    "testloader = DataLoader(testset, batch_size=64, shuffle=False)\n",
    "\n",
    "resnet50 = models.resnet50(pretrained=True)\n",
    "num_ftrs = resnet50.fc.in_features\n",
    "resnet50.fc = nn.Linear(num_ftrs, 10) \n",
    "\n",
    "device = torch.device(\"cuda:0\" if torch.cuda.is_available() else \"cpu\")\n",
    "resnet50 = resnet50.to(device)\n",
    "\n",
    "criterion = nn.CrossEntropyLoss()\n",
    "optimizer = optim.Adam(resnet50.parameters(), lr=0.001, weight_decay=0.0001)\n",
    "\n",
    "epochs = 10\n",
    "for epoch in range(epochs):\n",
    "    resnet50.train()\n",
    "    running_loss = 0.0\n",
    "    for images, labels in trainloader:\n",
    "        images, labels = images.to(device), labels.to(device)\n",
    "        optimizer.zero_grad()\n",
    "        outputs = resnet50(images)\n",
    "        loss = criterion(outputs, labels)\n",
    "        loss.backward()\n",
    "        optimizer.step()\n",
    "        running_loss += loss.item()\n",
    "    print(f\"Epoch {epoch+1}/{epochs}, Loss: {running_loss / len(trainloader):.4f}\")\n",
    "\n",
    "resnet50.eval()\n",
    "all_preds = []\n",
    "all_labels = []\n",
    "\n",
    "with torch.no_grad():\n",
    "    for images, labels in testloader:\n",
    "        images, labels = images.to(device), labels.to(device)\n",
    "        outputs = resnet50(images)\n",
    "        _, predict = torch.max(outputs, 1)\n",
    "        all_preds.extend(predict.cpu().numpy())\n",
    "        all_labels.extend(labels.cpu().numpy())\n",
    "\n",
    "accuracy = accuracy_score(all_labels, all_preds)\n",
    "print(f\"Test Accuracy Score: {accuracy:.4f}\")"
   ]
  },
  {
   "cell_type": "markdown",
   "metadata": {},
   "source": [
    "Due to the costly computation, resnet 50 final result is only documented by text at 0.8348."
   ]
  },
  {
   "cell_type": "code",
   "execution_count": null,
   "metadata": {},
   "outputs": [],
   "source": [
    "train_loader = torch.utils.data.DataLoader(trainset, batch_size=128, shuffle=True, num_workers=2)\n",
    "test_loader = torch.utils.data.DataLoader(testset, batch_size=128, shuffle=False, num_workers=2)\n",
    "\n",
    "def get_model(num_classes=10, dropout_rate=0.5):\n",
    "    model = resnet50(pretrained=True)\n",
    "    model.fc = nn.Sequential(\n",
    "        nn.Dropout(dropout_rate),\n",
    "        nn.Linear(model.fc.in_features, num_classes)\n",
    "    )\n",
    "    return model\n",
    "\n",
    "def train(model, train_loader, optimizer, criterion, device):\n",
    "    model.train()\n",
    "    total_loss = 0\n",
    "    correct = 0\n",
    "    for inputs, targets in train_loader:\n",
    "        inputs, targets = inputs.to(device), targets.to(device)\n",
    "        optimizer.zero_grad()\n",
    "        outputs = model(inputs)\n",
    "        loss = criterion(outputs, targets)\n",
    "        loss.backward()\n",
    "        optimizer.step()\n",
    "\n",
    "        total_loss += loss.item()\n",
    "        _, predicted = outputs.max(1)\n",
    "        correct += predicted.eq(targets).sum().item()\n",
    "\n",
    "    return total_loss / len(train_loader), correct / len(train_loader.dataset)\n",
    "\n",
    "def evaluate(model, test_loader, criterion, device):\n",
    "    model.eval()\n",
    "    total_loss = 0\n",
    "    correct = 0\n",
    "    with torch.no_grad():\n",
    "        for inputs, targets in test_loader:\n",
    "            inputs, targets = inputs.to(device), targets.to(device)\n",
    "            outputs = model(inputs)\n",
    "            loss = criterion(outputs, targets)\n",
    "\n",
    "            total_loss += loss.item()\n",
    "            _, predicted = outputs.max(1)\n",
    "            correct += predicted.eq(targets).sum().item()\n",
    "\n",
    "    return total_loss / len(test_loader), correct / len(test_loader.dataset)\n",
    "\n",
    "def objective(trial):\n",
    "    device = 'cuda' if torch.cuda.is_available() else 'cpu'\n",
    "\n",
    "    lr = trial.suggest_loguniform('lr', 1e-4, 1e-2)\n",
    "    weight_decay = trial.suggest_loguniform('weight_decay', 1e-5, 1e-3)\n",
    "    step_size = trial.suggest_int('step_size', 5, 15)\n",
    "    gamma = trial.suggest_uniform('gamma', 0.1, 0.9)\n",
    "    batch_size = trial.suggest_categorical('batch_size', [16, 32, 64, 128, 256])\n",
    "    dropout_rate = trial.suggest_uniform('dropout_rate', 0.1, 0.5)\n",
    "\n",
    "    train_loader = torch.utils.data.DataLoader(\n",
    "        trainset, batch_size=batch_size, shuffle=True, num_workers=2)\n",
    "    test_loader = torch.utils.data.DataLoader(\n",
    "        testset, batch_size=batch_size, shuffle=False, num_workers=2)\n",
    "\n",
    "    model = get_model(dropout_rate=dropout_rate).to(device)\n",
    "    criterion = nn.CrossEntropyLoss()\n",
    "    optimizer = optim.Adam(model.parameters(), lr=lr, weight_decay=weight_decay)\n",
    "    scheduler = StepLR(optimizer, step_size=step_size, gamma=gamma)\n",
    "\n",
    "    best_accuracy = 0\n",
    "    for epoch in range(20): \n",
    "        train(model, train_loader, optimizer, criterion, device)\n",
    "        _, accuracy = evaluate(model, test_loader, criterion, device)\n",
    "        scheduler.step()\n",
    "\n",
    "        best_accuracy = max(best_accuracy, accuracy)\n",
    "        trial.report(accuracy, epoch)\n",
    "\n",
    "        if trial.should_prune():\n",
    "            raise optuna.exceptions.TrialPruned()\n",
    "\n",
    "    return best_accuracy\n",
    "\n",
    "\n",
    "study = optuna.create_study(direction='maximize')\n",
    "study.optimize(objective, n_trials=50)\n",
    "\n",
    "print(\"Best Trial:\")\n",
    "trial = study.best_trial\n",
    "print(f\"  Value: {trial.value}\")\n",
    "print(\"  Params:\")\n",
    "for key, value in trial.params.items():\n",
    "    print(f\"    {key}: {value}\")"
   ]
  },
  {
   "cell_type": "markdown",
   "metadata": {},
   "source": [
    "'lr': 0.0003180568082587095, 'weight_decay': 3.234913499805482e-05, 'step_size': 10, 'gamma': 0.2624534077375096, 'batch_size': 64, 'dropout_rate': 0.31073682148057613}. Best is trial 1 with value: 0.8679."
   ]
  },
  {
   "cell_type": "markdown",
   "metadata": {},
   "source": [
    "<h1>IV. Models results comparision:"
   ]
  },
  {
   "cell_type": "markdown",
   "metadata": {},
   "source": [
    "In summary, the accuracy score of each model is: \n",
    "- DNN: 0.5179\n",
    "- CNN: 0.7252\n",
    "- CNN tunned: 0.7338\n",
    "- Resnet50: 0.8348\n",
    "- Resnet50 fine_tuned: 0.8679\n",
    "\n"
   ]
  }
 ],
 "metadata": {
  "kernelspec": {
   "display_name": "Python 3",
   "language": "python",
   "name": "python3"
  },
  "language_info": {
   "codemirror_mode": {
    "name": "ipython",
    "version": 3
   },
   "file_extension": ".py",
   "mimetype": "text/x-python",
   "name": "python",
   "nbconvert_exporter": "python",
   "pygments_lexer": "ipython3",
   "version": "3.11.1"
  }
 },
 "nbformat": 4,
 "nbformat_minor": 2
}
